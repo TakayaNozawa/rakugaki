{
 "nbformat": 4,
 "nbformat_minor": 2,
 "metadata": {
  "language_info": {
   "name": "python",
   "codemirror_mode": {
    "name": "ipython",
    "version": 3
   },
   "version": "3.6.9-final"
  },
  "orig_nbformat": 2,
  "file_extension": ".py",
  "mimetype": "text/x-python",
  "name": "python",
  "npconvert_exporter": "python",
  "pygments_lexer": "ipython3",
  "version": 3,
  "kernelspec": {
   "name": "python36964bit259114d5b7d94317b5c607b68a95749d",
   "display_name": "Python 3.6.9 64-bit"
  }
 },
 "cells": [
  {
   "cell_type": "code",
   "execution_count": null,
   "metadata": {},
   "outputs": [],
   "source": [
    "print(\"python waked up\")"
   ]
  },
  {
   "cell_type": "code",
   "execution_count": 2,
   "metadata": {},
   "outputs": [],
   "source": [
    "import numpy as np"
   ]
  },
  {
   "cell_type": "code",
   "execution_count": 3,
   "metadata": {},
   "outputs": [
    {
     "name": "stdout",
     "output_type": "stream",
     "text": "[[1 2 3]\n [4 5 6]\n [7 8 9]]\n"
    }
   ],
   "source": [
    "a = np.array([[1,2,3],[4,5,6],[7,8,9]])\n",
    "print(a)"
   ]
  },
  {
   "cell_type": "code",
   "execution_count": 4,
   "metadata": {},
   "outputs": [
    {
     "name": "stdout",
     "output_type": "stream",
     "text": "[[0. 0. 0.]\n [0. 0. 0.]]\n"
    }
   ],
   "source": [
    "zeros = np.zeros((2,3))\n",
    "print(zeros)"
   ]
  },
  {
   "cell_type": "code",
   "execution_count": 5,
   "metadata": {},
   "outputs": [
    {
     "name": "stdout",
     "output_type": "stream",
     "text": "[[5. 5. 5.]\n [5. 5. 5.]]\n"
    }
   ],
   "source": [
    "zeros_plus = np.zeros((2,3)) + 5\n",
    "print(zeros_plus)"
   ]
  },
  {
   "cell_type": "code",
   "execution_count": 16,
   "metadata": {},
   "outputs": [
    {
     "name": "stdout",
     "output_type": "stream",
     "text": "[]\n"
    }
   ],
   "source": [
    "aaa = []\n",
    "print(aaa)"
   ]
  },
  {
   "cell_type": "code",
   "execution_count": 17,
   "metadata": {},
   "outputs": [
    {
     "data": {
      "text/plain": "0"
     },
     "execution_count": 17,
     "metadata": {},
     "output_type": "execute_result"
    }
   ],
   "source": [
    "M = len(aaa)\n",
    "M"
   ]
  },
  {
   "cell_type": "code",
   "execution_count": 19,
   "metadata": {},
   "outputs": [
    {
     "name": "stdout",
     "output_type": "stream",
     "text": "[3.6 3.6 3.6]\n"
    }
   ],
   "source": [
    "n_z = np.zeros(3) + 3 * 1.2\n",
    "print(n_z)"
   ]
  },
  {
   "cell_type": "code",
   "execution_count": 36,
   "metadata": {},
   "outputs": [],
   "source": [
    "for m, n in enumerate(aaa):\n",
    "    self.N += len(m)"
   ]
  },
  {
   "cell_type": "code",
   "execution_count": 43,
   "metadata": {},
   "outputs": [
    {
     "data": {
      "text/plain": "array([8, 9, 9])"
     },
     "execution_count": 43,
     "metadata": {},
     "output_type": "execute_result"
    }
   ],
   "source": [
    "arr = np.random.randint(0, 10, 3)\n",
    "arr"
   ]
  },
  {
   "cell_type": "code",
   "execution_count": 46,
   "metadata": {},
   "outputs": [
    {
     "ename": "IndexError",
     "evalue": "index 2 is out of bounds for axis 0 with size 2",
     "output_type": "error",
     "traceback": [
      "\u001b[0;31m---------------------------------------------------------------------------\u001b[0m",
      "\u001b[0;31mIndexError\u001b[0m                                Traceback (most recent call last)",
      "\u001b[0;32m<ipython-input-46-99cab8dd6d0b>\u001b[0m in \u001b[0;36m<module>\u001b[0;34m\u001b[0m\n\u001b[0;32m----> 1\u001b[0;31m \u001b[0mzeros\u001b[0m\u001b[0;34m[\u001b[0m\u001b[0;36m2\u001b[0m\u001b[0;34m,\u001b[0m\u001b[0;36m2\u001b[0m\u001b[0;34m]\u001b[0m \u001b[0;34m+=\u001b[0m \u001b[0;36m1\u001b[0m\u001b[0;34m\u001b[0m\u001b[0;34m\u001b[0m\u001b[0m\n\u001b[0m",
      "\u001b[0;31mIndexError\u001b[0m: index 2 is out of bounds for axis 0 with size 2"
     ]
    }
   ],
   "source": [
    "zeros[2,2] += 1"
   ]
  },
  {
   "cell_type": "code",
   "execution_count": null,
   "metadata": {},
   "outputs": [],
   "source": []
  },
  {
   "cell_type": "code",
   "execution_count": 53,
   "metadata": {},
   "outputs": [],
   "source": [
    "M=10\n",
    "K=5\n",
    "V=3\n",
    "alpha = 0.5\n",
    "bete = 0.5"
   ]
  },
  {
   "cell_type": "code",
   "execution_count": null,
   "metadata": {},
   "outputs": [],
   "source": [
    "z_m_n = []\n",
    "n_m_z = np.zeros((M, K)) + alpha\n",
    "n_z_t = np.zeros((K, V)) + bete\n",
    "n_z = np.zeros(K) + V*bete \n",
    "\n",
    "n_z"
   ]
  },
  {
   "cell_type": "code",
   "execution_count": 70,
   "metadata": {},
   "outputs": [
    {
     "ename": "IndexError",
     "evalue": "list index out of range",
     "output_type": "error",
     "traceback": [
      "\u001b[0;31m---------------------------------------------------------------------------\u001b[0m",
      "\u001b[0;31mIndexError\u001b[0m                                Traceback (most recent call last)",
      "\u001b[0;32m<ipython-input-70-898ae876f657>\u001b[0m in \u001b[0;36m<module>\u001b[0;34m\u001b[0m\n\u001b[1;32m      1\u001b[0m \u001b[0mz_n\u001b[0m \u001b[0;34m=\u001b[0m \u001b[0mnp\u001b[0m\u001b[0;34m.\u001b[0m\u001b[0mrandom\u001b[0m\u001b[0;34m.\u001b[0m\u001b[0mrandint\u001b[0m\u001b[0;34m(\u001b[0m\u001b[0;36m0\u001b[0m\u001b[0;34m,\u001b[0m\u001b[0;36m10\u001b[0m\u001b[0;34m,\u001b[0m\u001b[0;36m10\u001b[0m\u001b[0;34m)\u001b[0m\u001b[0;34m\u001b[0m\u001b[0;34m\u001b[0m\u001b[0m\n\u001b[0;32m----> 2\u001b[0;31m \u001b[0mz_m\u001b[0m \u001b[0;34m=\u001b[0m \u001b[0mz_m_n\u001b[0m\u001b[0;34m[\u001b[0m\u001b[0;36m1\u001b[0m\u001b[0;34m]\u001b[0m\u001b[0;34m\u001b[0m\u001b[0;34m\u001b[0m\u001b[0m\n\u001b[0m",
      "\u001b[0;31mIndexError\u001b[0m: list index out of range"
     ]
    }
   ],
   "source": [
    "z_n = np.random.randint(0,10,10)\n",
    "z_m = z_m_n[1]"
   ]
  },
  {
   "cell_type": "code",
   "execution_count": 2,
   "metadata": {},
   "outputs": [],
   "source": [
    "from sklearn.feature_extraction.text import CountVectorizer\n",
    "from sklearn.datasets import fetch_20newsgroups"
   ]
  },
  {
   "cell_type": "code",
   "execution_count": 3,
   "metadata": {},
   "outputs": [
    {
     "data": {
      "text/plain": "2.2.22.80\\n',\n \"From: jcav@ellis.uchicago.edu (JohnC)\\nSubject: how do you like the Apple Color OneScanner?\\nReply-To: jcav@midway.uchicago.edu\\nOrganization: The Royal Society for Putting Things on Top of Other Things\\nLines: 13\\n\\nWe're all set to buy one of these for the office, to use for scanning in\\ncolor photographs and for optical character recognition.  We've played with\\nthe original grayscale OneScanner and were very pleased.  Is the color model\\ncomparable in quality?\\n\\nAlso, what brand of OCR software would you recommend?  We're leaning toward\\nCaere OmniPage.  Any better ideas?  Thanks.\\n\\n-- \\nJohn Cavallino                  |  EMail: jcav@midway.uchicago.edu\\nUniversity of Chicago Hospitals |         John_Cavallino@uchfm.bsd.uchicago.edu\\nOffice of Facilities Management | USMail: 5841 S. Maryland Ave, MC 0953\\nB0 f++ w c+ g++ k+ s++ e h- p   |         Chicago, IL  60637\\n\",\n \"Subject: Re: 68LC040 vs. 68RC040 in Centris 650\\nFrom: Bruce@hoult.actrix.gen.nz (Bruce Hoult)\\nLines: 16\\n\\nZack T. Smith writes:\\n> konpej@eua.ericsson.se (Per Ejeklint) writes:\\n> \\n> >Hm, maybe I'm missing something, but the Centris 650 has the '040 with FPU.\\n> >At least the ones shipped here in Europe.\\n> \\n> You are indeed. The 4/80 model (shipped here) definitely does not have the\\n> FPU. I own one; I know.\\n\\n\\nNo, he's not missing anything.  You're right that some models of the 650 ship in\\nthe USA without FPU or Ethernet.  Per Ejeklint is also right -- *all*, I repeat,\\n*ALL* Centris 650's sold here in New Zealand and, I assume, Europe have the FPU\\nand Ethernet.\\n\\nI know.  I bought a 650 4/80 and it has both FPU and Ethernet.\\n\",\n \"From: mirsky@hal.gnu.ai.mit.edu (David Joshua Mirsky)\\nSubject: Re: Desktop rebuild and Datadesk keyboard?\\nOrganization: dis\\nLines: 32\\nNNTP-Posting-Host: hal.ai.mit.edu\\n\\nIn article <C5I77w.3oE@cs.uiuc.edu> tthiel@cs.uiuc.edu (Terry Thiel) writes:\\n>Ijust got a new Datadesk 101E keyboard to go with my new Centris 610 and have a\\n>problem doing desktop rebuilds.  I hold down the Command and Option keys and\\n>restart but nothing happens.  The DIP switches are set the right way and the\\n>Command and Option keys seem to work on anything else.  I'm running 7.1 btw.\\n>Anyone know what the problem is?\\n>-Terry\\n\\n\\nI am resending this message because my news program may have goofed the first\\ntime.\\n\\nTerry, I recently bought an LCIII and a Datadesk 101E. I don't\\nremember trying to rebuild the desktop with it, however it did give me\\na strange problem.  When I held down shift during startup to disable\\nall extensions, nothing happened. I tried it with another keyboard, using\\nthe same adb connector cable- and it worked with the other keyboard.\\nThe shift key on the Datadesk keyboard worked well otherwise. I checked\\nthe dipswitches and they are fine.  Try disabling your extensions and tell\\nme if it works.\\n             \\nI am annoyed with Datadesk.  I sent them the keyboard in the mail for\\ninspection/repair/replacement.  The technician on the phone said they\\nhave a 10-14 day turn around time- meaning you should receive the\\ninspected/repaired keyboard in that time.  Well, they have had the          \\nkeyboard for over 3 weeks and I still have gotten very little info\\nfrom them about it. It's annoying because it cost me $12 to send them\\nthe keyboard and their technical support line is not toll free. tell me\\nif you have a similar experience with them.\\n\\n-David Mirsky\\nmirsky@gnu.ai.mit.edu\\n\",\n \"From: horan@cse.unl.edu (Mark Horan)\\nSubject: Re: Best Second Baseman?\\nArticle-I.D.: crcnis1.1pqvusINNmjm\\nDistribution: usa\\nOrganization: University of Nebraska--Lincoln\\nLines: 29\\nNNTP-Posting-Host: cse.unl.edu\\n\\nthf2@ellis.uchicago.edu (Ted Frank) writes:\\n\\n>In article <1993Mar29.044248.16010@sarah.albany.edu> js8484@albnyvms.bitnet writes:\\n>>Personally, I think that Alomar is all hype. He is producing incredibly now,\\n>>but in the long run, he will never put up the numbers that Sandberg has. For\\n>>THIS moment, Alomar may be the best, but overall Sandberg wins out by a long\\n>>shot.\\n\\n>When Sandberg was Alomar's age, he was putting up .261 seasons with no power.\\n>Alomar's 1992 OBA is 25 points higher than Sandberg's career high.  Alomar's\\n>career high in doubles and triples is higher than Sandberg's.  Sandberg is\\n>still better than Alomar, but only because Alomar hasn't reached his full\\n>potential yet.  Alomar's got a 2.5 year-headstart on Sandberg (he has 862\\n>hits; Sandberg didn't have 862 hits until he was 26), and is likely to\\n>put up better career numbers than Sandberg in everything except home runs.\\n>He'll pass Sandberg in stolen bases sometime in 1995.\\n\\nSandberg is not particulary known for his stolen bases.  What competition did \\nAlomar have?  Sandberg came in a year after Ripken, and the same year as Boggs,\\nGwynn, and the other magicians.  So less attention was given to Sandberg. \\nAlomar is the only one in his class to be worth a mediocre.  Besides the \\nnumbers don't count.  National league pitchers are much better pitchers. \\n\\nLarry                          on someone elses account \\n--\\n\\nMark Horan --\\nhoran@cse.unl.edu      \\nianr053@unlvm\\n\",\n \"From: ccdw@kudu.ru.ac.za (Dave Wilson)\\nSubject: Xlib timeouts?\\nSummary: How to do timeouts using Xlib\\nKeywords: Xlib timeouts\\nArticle-I.D.: kudu.ccdw.735917051\\nOrganization: Rhodes University, Grahamstown, South Africa\\nLines: 12\\n\\nI am in the process of modifying an X application that uses Xlib.  I'd\\nlike to include a timer-driven facility (for network polling), but cannot\\nsee how to do it using Xlib.  I know it can be done with Xaw, using\\nXtAppAddTimeout and XtTimerCallBackProc.  How do I do the same using\\nXlib?\\n\\nThanks for any help.  Please email.\\n\\n--\\nDave Wilson\\nComputing Centre, Rhodes University\\nGrahamstown, South Africa\\n\",\n 'From: gweil@ibeam.intel.com (Garry Weil)\\nSubject: Monitor recommendation Needed\\nSummary: Which one larger than 14\"?\\nOrganization: Multimedia Software Technology Group\\nLines: 16\\n\\n\\nI have finally decided to update my SE :-)).\\nI am planning on buying a Centris 610-8/230 CD.\\nNow, what monitor should I get? Here are a few\\nguidelines:\\n\\tMy wife uses PageMaker occasionally, I use Excel sometimes\\n\\tand I do alot of Telecommuting from home to work. We both\\n\\tdo Word processing. Greater than 14 inches.\\n\\nI have looked at the Radius Color Pivot. This can be bought for\\nunder $1000. I have heard good things about the E-Machines T-16,\\nthe older model not the new T-16 II. How about the Super Mac 17T?\\nThese both can be had for a little over $1000. Any others??\\n\\nGarry\\n\\n',\n 'From: hades@coos.dartmouth.edu (Brian V. Hughes)\\nSubject: Re: Installing RAM in a Quadra 800\\nReply-To: hades@Dartmouth.Edu\\nOrganization: Dartmouth College, Hanover, NH\\nDisclaimer: Personally, I really don\\'t care who you think I speak for.\\nModerator: Rec.Arts.Comics.Info\\nLines: 55\\n\\ntruesdel@ics.uci.edu (Scott Truesdell) writes:\\n\\n>This is an aside to Brian Hughes\\'s (please, let\\'s lose the cute phony names\\n>everybody) posting about adding memory to a Quadra 800.\\n\\n    What phony names? My name is clearly visible in the headers, and I\\nsing the post with my account name. If you have a problem with that,\\nthen you will have to get over it. I\\'ve used this account name for over\\n10 years and the people who have been reading newsgroups for the last 7\\ngenerally recognize \"Hades\" as my account name. I have no intention of\\nchanging the way I post.\\n\\n>I installed a couple of 16MB SIMMs in my Quadra and was somewhat dismayed\\n>by the general complexity of the operation compared to, for example, the\\n>wonderfully designed LC III. It irritates me when Apple refuses to tell how\\n>to do it in the User\\'s Manual so you have to guess at how to disassemble\\n>the devise in question (it\\'s the same for adding memory to LaserWriter\\n>Pro\\'s).\\n\\n    It isn\\'t Apple\\'s responsibility to tell its customers how to fool\\naround with it\\'s hardware. That is what Apple Service Techs get paid to\\ndo. I personally like the design of the Q800, and applaud Apple for\\ncoming up with a good way to make use of the front space for all of\\nthose drive bays. I like it a lot better than the 900/950 design, except\\nfor those people who need Drive Arrays. I do, however, agree with you\\nabout the LW Pro design.\\n\\n>The operation isn\\'t very complicated if even a minimal amount of help were\\n>offered but Apple leaves you working blind.\\n\\n    Again, its\\'s not Apple\\'s place to make it easy for non-certified\\nservice people to fool around with Apple hardware, even if they did buy\\nit. Of course you are free to do what you want to your Mac, just don\\'t\\nget upset when your Apple Service Rep tells you that your warranty is no\\nlonger valid.\\n\\n>After the memory was installed I was distraught that the top of the SIMMs\\n>came into contact with the plastic case frame. Mine actually contacted the\\n>framework with quite a lot of pressure -- enough so that the assembly of\\n>the board back to the proper position was rather difficult and required\\n>some force. I could have filed a little excess material off the top of the\\n>SIMM boards but chose to let it stand as is. I have not had problems with\\n>RAM yet so I will consider the problem annoying but not catastrophic.\\n\\n    This sounds like the kind of problem I had when I installed 4MB\\nSIMMs into an LC, back before low-profile 4MB SIMMs were readily\\navailable. The standard 4MB SIMMs would contact the top of the case and\\nmake it a bit difficult to close the LC, but it did close and work just\\nfine. One of the nice things about Logic-Boards is that they are\\ngenerally quite flexible and can withstand a fair amount of pressure.\\n\\n-Hades\\n\\n\\n\\n',\n 'From: MUNIZB%RWTMS2.decnet@rockwell.com (\"RWTMS2::MUNIZB\")\\nSubject: Space Activities in Tucson, AZ ?\\nX-Added: Forwarded by Space Digest\\nOrganization: [via International Space University]\\nOriginal-Sender: isu@VACATION.VENARI.CS.CMU.EDU\\nDistribution: sci\\nLines: 7\\n\\nI would like to find out about space engineering employment and educational\\nopportunities in the Tucson, Arizona area.  E-mail responses appreciated.\\nMy mail feed is intermittent, so please try one or all of these addresses.\\n\\nBen Muniz      w(818)586-3578      MUNIZB%RWTMS2.decnet@beach.rockwell.com \\nor:  bmuniz@a1tms1.remnet.ab.com  MUNIZB%RWTMS2.decnet@consrt.rockwell.com\\n\\n',\n 'From: henry@zoo.toronto.edu (Henry Spencer)\\nSubject: Re: Space Station Redesign, JSC Alternative #4\\nOrganization: U of Toronto Zoology\\nLines: 14\\n\\nIn article <1ralibINNc0f@cbl.umd.edu> mike@starburst.umd.edu (Michael F. Santangelo) writes:\\n>... The only thing\\n>that scares me is the part about simply strapping 3 SSME\\'s and\\n>a nosecone on it and \"just launching it.\"  I have this vision\\n>of something going terribly wrong with the launch resulting in the\\n>complete loss of the new modular space station (not just a peice of\\n>it as would be the case with staged in-orbit construction).\\n\\nIt doesn\\'t make a whole lot of difference, actually, since they weren\\'t\\nbuilding spares of the station hardware anyway.  (Dumb.)  At least this\\nis only one launch to fail.\\n-- \\nSVR4 resembles a high-speed collision   | Henry Spencer @ U of Toronto Zoology\\nbetween SVR3 and SunOS.    - Dick Dunn  |  henry@zoo.toronto.edu  utzoo!henry\\n',\n \"From: ralph.buttigieg@f635.n713.z3.fido.zeta.org.au (Ralph Buttigieg)\\nSubject: Why not give $1 billion to first year-lo\\nOrganization: Fidonet. Gate admin is fido@socs.uts.edu.au\\nLines: 34\\n\\nOriginal to: keithley@apple.com\\nG'day keithley@apple.com\\n\\n21 Apr 93 22:25, keithley@apple.com wrote to All:\\n\\n kc> keithley@apple.com (Craig Keithley), via Kralizec 3:713/602\\n\\n\\n kc> But back to the contest goals, there was a recent article in AW&ST\\nabout a\\n kc> low cost (it's all relative...) manned return to the moon.  A General\\n kc> Dynamics scheme involving a Titan IV & Shuttle to lift a Centaur upper\\n kc> stage, LEV, and crew capsule.  The mission consists of delivering two\\n kc> unmanned payloads to the lunar surface, followed by a manned mission.\\n kc> Total cost:  US was $10-$13 billion.  Joint ESA(?)/NASA project was\\n$6-$9\\n kc> billion for the US share.\\n\\n kc> moon for a year.   Hmmm.  Not really practical.  Anyone got a\\n kc> cheaper/better way of delivering 15-20 tonnes to the lunar surface\\nwithin\\n kc> the decade?  Anyone have a more precise guess about how much a year's\\n kc> supply of consumables and equipment would weigh?\\n\\nWhy not modify the GD plan into Zurbrin's Compact Moon Direct scheme? let\\none of those early flight carry an O2 plant and make your own.\\n\\nta\\n\\nRalph\\n\\n--- GoldED 2.41+\\n * Origin: VULCAN'S WORLD - Sydney Australia (02) 635-1204  3:713/6\\n(3:713/635)\\n\",\n 'From: edwind@lims01.lerc.nasa.gov (Tom NGUYEN)\\nSubject: How to resolve different font formats ...?\\nOrganization: NASA Lewis Research Center\\nLines: 21\\nDistribution: world\\nNNTP-Posting-Host: lims01.lerc.nasa.gov\\nNews-Software: VAX/VMS VNEWS 1.41    \\n\\nHi All!\\n\\nI tried to run SoftPC, a PC emulation software program, installed on a Silicon \\nGraphics workstation from a Human Design System (HDS) X terminal, and \\neverything went fine, except the fonts could NOT be converted from one type \\nof format to the other - HDS uses different font format from SGI worksation.\\nSo, I have the following questions:\\n\\n1. How do you resolve different font formats from different machines?\\n\\n2. Is there a program to convert one type of font format to another?\\n\\nIf you have similar problems/experiences and have found a solution, please \\nlet me know.  Your help will be greatly appreciated!\\n\\nThank you in advance for your help and information.\\n\\nTom Nguen\\n\\nedwind@lims01.lerc.nasa.gov\\n\\n',\n \"From: davewood@bruno.cs.colorado.edu (David Rex Wood)\\nSubject: Rockies need some relief\\nNntp-Posting-Host: bruno.cs.colorado.edu\\nOrganization: University of Colorado, Boulder\\nLines: 13\\n\\nOnce again, the Rockies bullpen fell apart.  Andy Ashby pitched six (somewhat\\nshaky) innings giving up just one run.  Then game the dreaded relief.  Three\\npicthers combined to give up 3 runs (one each I believe) in the 7th inning\\nand blew the save opportunity.  (Final was 4-2 vs Expos).\\n\\nDespite their problems in the pen, I think the Rockies are a team that wont\\nbe taken lightly.  Going into today's game, the had the league's leading\\nhitter and RBI man (Galarraga), two of the leaders in stolen bases (Young\\nand Cole) and increasingly strong starting pitching.\\n-- \\n-------------------------------------------------------------------------------\\nDavid Rex Wood -- davewood@cs.colorado.edu -- University of Colorado at Boulder\\n-------------------------------------------------------------------------------\\n\",\n 'From: tracy@cs.ucf.edu (Tracy Rene Tolley)\\nSubject: HELP: xdm & Solaris2.1\\nSummary: help with xdm & Solaris2.1\\nKeywords: Solaris2.1 xdm\\nOrganization: University of Central Florida\\nDistribution: comp\\nLines: 7\\n\\nI recently read here that Sun has a patch for xdm on\\nSolaris2.1.  I was wondering if anyone could give me the \\npatch number. \\n\\nThanks in advance,\\nTracy Tolley\\nUniversity of Central Florida - Technical Support\\n',\n 'From: dcc@dcs.ed.ac.uk (David Crooke)\\nSubject: Bitplaned (\"non-chunky\" pixel) cfb????\\nOrganization: Department of Computer Science, University of Edinburgh\\nLines: 17\\n\\nIs there a PD version of cfb, or other PD server stuff, which has a colour frame\\nbuffer implementation which works in bitplaned mode, i.e. where the screen\\nmemory is grouped so that \"bit 0 of every pixel is here, bit 1 is there, etc.\"\\n\\nThe only such beast I know if at the moment is the GfxBase server for the\\nCommodore Amiga, and it is commercial. I don\\'t know if they wrote their own cfb,\\nbut I suspect they did.\\n\\nPlease respond by email, as I don\\'t read this group.\\n\\nMany thanks\\nDave\\n-- \\nDavid Crooke, Department of Computer Science, University of Edinburgh\\nJanet dcc@ed.dcs  :  Internet dcc@dcs.ed.ac.uk  :  IP talk dcc@129.215.160.2\\nWork: JCMB Rm 3310, King\\'s Bldgs, W Mains Rd., Edinburgh EH9 3JZ. 031 650 6013\\nHome: 2FL, 39 Woodburn Terr, M\\'side, Edinburgh EH10 4ST. Tel: 031 452 9067\\n',\n \"Subject: Re: FLORIDA SUCKS!\\nFrom: csc2imd@cabell.vcu.edu (Ian M. Derby)\\nExpires: Sat, 1 May 1993 04:00:00 GMT\\nOrganization: Virginia Commonwealth University\\nLines: 8\\n\\n\\nThis talk about the Phillies winning the NL East is scary.  VERY\\nscary!  Don't get me wrong, Im a Phillies fan but as late as last\\nyear they looked helpless.  The funny thing was they did have a lot\\nof injuries in '92 spring training that basically killed their\\nchances.  Of course, don't forget the Dykstra wrist injury in the\\nfirst or second game?  \\n\\n\",\n 'From: dcb@wdl1.wdl.loral.com (David C Blume)\\nSubject: Cannot move data fast enough!?\\nSummary: disk -> buffer -> network card\\nKeywords: NuBus, SCSI, disk, throughput\\nOrganization: Gokuraku Videos\\nLines: 43\\n\\nI want to achieve an overall throughput rate of around 5 megabytes / sec\\nfor very large data transfers.  (Around 5 MB.)\\n\\nI have a Quadra 950. \\nI have a NuBus network card that can pump data in to mac memory at 8.5 MB/s.\\n         (using block-mode transfers)\\nI have a high-speed disk array (no asynchronous PB calls) that can\\n         achieve 6.8 MB/s.\\n\\nLet\\'s say all transfers go from disk to buffer to network card.\\n\\nIt is not enough to first transfer all the data from the disk to buffer,\\nthen transfer all the data from the buffer to card.  (6.8 MB/s then 8.5 MB/s\\nresult in an overall 3.8 MB/s.  Too slow!)\\n\\nSo I tried the following scheme: For an n-megabyte transfer, \\n\\nStep 1:                                Load the 1st MB from disk to buffer.\\nStep 2: Asynch send 1st MB out card,   Load the 2nd MB from disk to buffer.\\nStep 3: Asynch send 2nd MB out card,   Load the 3rd MB from disk to buffer.\\n        ...\\nStep n: Asynch send the n-1 MB out card, Load the nth MB from disk to buffer.\\nStep n+1: Send the nth MB out card.\\n\\nEven though the code apparently does execute the card transfer asynchronously,\\nand the card does not use the Mac cpu at all,  (It is using the buffer, tho\\')\\neach of the steps 2 through n take as long as if the two transfers were\\nexecuted one after another.  So there is no improvement in the rate.\\n\\nWhy?\\n\\nIs the mac RAM dual-port?  (So the NuBus card and the disk driver can both\\naccess data at the same time.)\\nIs the problem that the two devices, card and disk driver, both have to use\\nthe same bus to mac RAM?\\n\\nIs there anything I can do?\\n\\n--David\\n+---------------------------------------------------------------------+\\n| David Blume            | \"I get tired thinking of all the things I  |\\n| dcb@wdl1.wdl.loral.com |  don\\'t want to do.\"  --Bukowski, _Barfly_  |\\n+---------------------------------------------------------------------+\\n',\n \"From: demers@cs.ucsd.edu (David DeMers)\\nSubject: Re: Montreal Question.......\\nOrganization: CSE Dept., UC San Diego\\nLines: 13\\nNntp-Posting-Host: mbongo.ucsd.edu\\n\\n\\nIn article <1993Apr19.015442.15723@oz.plymouth.edu>, k_mullin@oz.plymouth.edu (Mully) writes:\\n|> \\n|>    What position does Mike Lansing play?  I cannot seem to find it \\n|>  anywhere.  Thanks!!!!1\\n\\nHe's a shortstop by training, but he's been at second (mostly) and third\\nthis year for the Expos.\\n-- \\nDave DeMers\\t\\t\\t \\t        demers@cs.ucsd.edu\\nComputer Science & Engineering\\t0114\\t\\tdemers%cs@ucsd.bitnet\\nUC San Diego\\t\\t\\t\\t\\t...!ucsd!cs!demers\\nLa Jolla, CA 92093-0114\\t(619) 534-0688, or -8187, FAX: (619) 534-7029\\n\",\n 'From: steerr@h01.UUCP (R. William Steer)\\nSubject: X-server for NT?\\nOrganization: The Internet\\nLines: 8\\nTo: expo.lcs.mit.edu!xpert@tron.bwi\\n\\nHas anybody generated an X server for Windows NT?  If so, are you willing\\nto share your config file and other tricks necessary to make it work?\\n\\nThanks for any information.\\n\\nBill Steer\\nWestinghouse\\n(412)374-6367\\n',\n ...]"
     },
     "execution_count": 3,
     "metadata": {},
     "output_type": "execute_result"
    }
   ],
   "source": [
    "###set datasets.\n",
    "categorise = ['rec.sport.baseball','sci.space','comp.sys.mac.hardware','comp.windows.x']\n",
    "\n",
    "news20 = fetch_20newsgroups(categories=categorise)\n",
    "news = news20.data\n",
    "\n",
    "news"
   ]
  },
  {
   "cell_type": "code",
   "execution_count": 20,
   "metadata": {},
   "outputs": [],
   "source": [
    "txt_vec = CountVectorizer(news)\n",
    "txt_vec_fit = txt_vec.fit(news)\n",
    "word = txt_vec.transform(news)"
   ]
  },
  {
   "cell_type": "code",
   "execution_count": 21,
   "metadata": {},
   "outputs": [
    {
     "data": {
      "text/plain": "34301"
     },
     "execution_count": 21,
     "metadata": {},
     "output_type": "execute_result"
    }
   ],
   "source": [
    "len(txt_vec.get_feature_names())"
   ]
  },
  {
   "cell_type": "code",
   "execution_count": 22,
   "metadata": {},
   "outputs": [
    {
     "name": "stdout",
     "output_type": "stream",
     "text": "nna 0\nwannabe 0\nwant 0\nwanted 0\nwanting 0\nwants 0\nwar 0\nwar_ 0\nward 0\nwardsgi 0\nware 0\nwarentee 0\nwares 0\nwarfare 0\nwargs 0\nwarhead 0\nwarheads 0\nwarkentin 0\nwarkentine 0\nwarm 0\nwarmed 0\nwarming 0\nwarmly 0\nwarmup 0\nwarn 0\nwarned 0\nwarner 0\nwarning 0\nwarnings 0\nwarp 0\nwarped 0\nwarper 0\nwarranted 0\nwarranties 0\nwarranty 0\nwarren 0\nwarren1c 0\nwarrent 0\nwarrenty 0\nwarrior 0\nwars 0\nwarwick 0\nwary 0\nwas 1\nwash 0\nwashed 0\nwasher 0\nwashers 0\nwashing 0\nwashington 0\nwasn 0\nwason 0\nwasp 0\nwasps 0\nwaste 0\nwasted 0\nwasteful 0\nwasteland 0\nwastes 0\nwasting 0\nwatarts 0\nwatcgl 0\nwatch 0\nwatched 0\nwatches 0\nwatching 0\nwatcom 0\nwater 0\nwaterloo 0\nwatertown 0\nwaterwood 0\nwatkins 0\nwats 0\nwatserv1 0\nwatsol 0\nwatson 0\nwatt 0\nwattage 0\nwatts 0\nwau 0\nwaugaman 0\nwave 0\nwaveforms 0\nwavefront 0\nwaveland 0\nwavelength 0\nwavelengths 0\nwaves 0\nwaving 0\nwawers 0\nwax 0\nway 0\nwayne 0\nways 0\nwc 0\nwc_c 0\nwc_len 0\nwc_str 0\nwcau 0\nwcaw 0\nwcfields 0\nwchar 0\nwchar_t 0\nwchartoxmstring 0\nwcl 0\nwd 0\nwd90c00 0\nwd90c10 0\nwd90c11 0\nwd90c31 0\nwdl 0\nwdl1 0\nwds 0\nwdwells 0\nwe 0\nweage 0\nweak 0\nweaken 0\nweaker 0\nweakest 0\nweakly 0\nwealth 0\nwealthy 0\nweapns 0\nweapon 0\nweapons 0\nwear 0\nweared 0\nwearing 0\nweary 0\nweater 0\nweather 0\nweathered 0\nweatherphotos 0\nweaver 0\nweb 0\nwebber 0\nweber 0\nwebo 0\nwebster 0\nwed 0\nwedged 0\nwednesday 0\nwedos 0\nwee 0\nweed 0\nweedeater 0\nweek 0\nweekdays 0\nweekend 0\nweekends 0\nweekly 0\nweeks 0\nweemba 0\nweenie 0\nweet 0\nwegman 0\nweigel 0\nweigh 0\nweighing 0\nweighs 0\nweight 0\nweighting 0\nweightlessness 0\nweights 0\nweikart 0\nweil 0\nweinrich 0\nweird 0\nweirdness 0\nweirdo 0\nweis 0\nweisberg 0\nweiss 0\nwelch 0\nwelchg 0\nwelchgate 0\nwelcome 0\nwelcomed 0\nweld 0\nwelded 0\nwelfare 0\nwelkom 0\nwell 0\nwellington 0\nwellorganized 0\nwells 0\nwendell 0\nwenn 0\nwent 0\nwente 0\nwere 0\nwereld 0\nweren 0\nwerewolfs 0\nwerhner 0\nwerkelijk 0\nwerner 0\nwernher 0\nwertz 0\nwes 0\nwesley 0\nwesleyan 0\nwest 0\nwesterbork 0\nwestern 0\nwestfaelischen 0\nwestford 0\nwesthawk 0\nwestinghouse 0\nwestmoreland 0\nwestward 0\nwestwind 0\nwet 0\nweta 0\nwethat 0\nwether 0\nwetstein 0\nwetteland 0\nwetting 0\nwexelblat 0\nwf 0\nwfan 0\nwfpc 0\nwfpcii 0\nwg2 0\nwgep 0\nwgms 0\nwgn 0\nwgp 0\nwgw 0\nwgwc5pdl4 0\nwh 0\nwhadda 0\nwhalen 0\nwhaley 1\nwhaling 0\nwhan 0\nwhat 0\nwhatabout 0\nwhatever 2\nwhats 0\nwhatsoever 0\nwheat 0\nwheate 0\nwheaties 0\nwheel 0\nwheeler 0\nwheelon 0\nwheels 0\nwhen 0\nwhenever 0\nwhere 0\nwhereas 0\nwhereby 0\nwherein 0\nwherever 0\nwhether 1\nwhew 0\nwhi 0\nwhich 0\nwhichever 0\nwhiffed 0\nwhiffer 0\nwhile 0\nwhine 0\nwhining 0\nwhip 0\nwhipped 0\nwhips 0\nwhirlwind 0\nwhit 0\nwhitaker 0\nwhitcomb 0\nwhite 0\nwhite_billy 0\nwhiteboard 0\nwhitehead 0\nwhiten 0\nwhitepixel 0\nwhiteside 0\nwhitesox 0\nwhitespace 0\nwhitey 0\nwhiteydal 0\nwhither 0\nwhitney 0\nwhitson 0\nwhitten 0\nwhittier 0\nwhiz 0\nwhne 0\nwho 0\nwhoami 0\nwhoever 0\nwhois 0\nwhole 0\nwholesale 0\nwholsale 0\nwhom 0\nwhooooooooshhhhhh 0\nwhoop 0\nwhoops 0\nwhoosh 0\nwhose 0\nwhy 0\nwi 0\nwichita 0\nwichitaks 0\nwicked 0\nwickman 0\nwide 0\nwidely 0\nwiden 0\nwidener 0\nwider 0\nwides 0\nwidespread 0\nwidet 0\nwidget 0\nwidgetclass 0\nwidgets 0\nwidgetset 0\nwidgetwrap 0\nwidghet 0\nwidmann 0\nwidth 0\nwidths 0\nwieck 0\nwied 0\nwielding 0\nwieman 0\nwien 0\nwiener 0\nwierd 0\nwife 0\nwiff 0\nwight 0\nwil 0\nwilbanks 0\nwilbur 0\nwild 0\nwildcat 0\nwilderness 0\nwildly 0\nwiley 0\nwilfred 0\nwilfrid 0\nwilhelm 0\nwilhelminenstrasse 0\nwilhelms 0\nwilie 0\nwilisch 0\nwilk 0\nwilkins 0\nwilkinson 0\nwill 0\nwillamette 0\nwilli 0\nwilliam 0\nwilliams 0\nwilliamsport 0\nwilliamstown 0\nwillie 0\nwilling 0\nwillingly 0\nwillingness 0\nwillis 0\nwillman 0\nwillmann 0\nwillner 0\nwills 0\nwillson 0\nwilma 0\nwilmette 0\nwilmington 0\nwilpon 0\nwilson 0\nwim 0\nwiml 0\nwimp 0\nwimsey 0\nwin 0\nwinchester 0\nwinco 0\nwind 0\nwinded 0\nwinding 0\nwindogs 0\nwindow 6\nwindow_redraw 0\nwindow_title 0\nwindowing 0\nwindowless 0\nwindowmanager 0\nwindowmanagername 0\nwindowmanaging 0\nwindows 0\nwinds 0\nwindscreen 0\nwindshear 0\nwinf 0\nwinfield 0\nwing 0\nwinged 0\nwingert 0\nwingless 0\nwinglets 0\nwingo 0\nwings 0\nwingtips 0\nwingz 0\nwink 0\nwinked 0\nwinken 0\nwinkler 0\nwinner 0\nwinners 0\nwinning 0\nwinningham 0\nwinnipeg 0\nwinodw 0\nwinopen 0\nwins 0\nwinsock 0\nwinsor 0\nwinsorr 0\nwinstead 0\nwinter 0\nwinterp 0\nwintry 0\nwip0\nwipe 0\nwiped 0\nwipp 0\nwir 0\nwire 0\nwired 0\nwirehead 0\nwires 0\nwiring 0\nwirtschaftsinformatik 0\nwis 0\nwisc 0\nwisconsin 0\nwisdom 0\nwise 0\nwisely 0\nwiser 0\nwish 0\nwished 0\nwishes 0\nwishful 0\nwishing 0\nwistar 0\nwit 0\nwith 3\nwithdraw 0\nwithdrawn 0\nwithin 0\nwithout 0\nwithstand 0\nwithstanding 0\nwithstood 0\nwitness 0\nwitt 0\nwittenberg 0\nwitty 0\nwixer 0\nwiyn 0\nwizard 0\nwizards 0\nwizz 0\nwjh 0\nwjr 0\nwjs112 0\nwk 0\nwk223 0\nwksb14 0\nwkshtree 0\nwkuvx1 0\nwl 0\nwldelft 0\nwlist 0\nwls 0\nwlu 0\nwlw 0\nwlyle 0\nwm 0\nwm_colormap_windows 0\nwm_command 0\nwm_delete_window 0\nwmhints 0\nwmiler 0\nwmshell 0\nwmshellpart 0\nwmtimeout 0\nwn 0\nwnbc 0\nwnet 0\nwni 0\nwnk 0\nwnoc 0\nwo 0\nwobble 0\nwoburn 0\nwoefully 0\nwoes 0\nwohlers 0\nwoithe 0\nwoke 0\nwoken 0\nwolf 0\nwolfe 0\nwolfgang 0\nwolfram 0\nwolfson 0\nwollen 0\nwollman 0\nwollongong 0\nwolverines 0\nwolves 0\nwoman 0\nwomen 0\nwomit 0\nwon 0\nwonder 0\nwondered 0\nwonderful 0\nwonderfully 0\nwondering 0\nwonderous 0\nwonderring 0\nwonders 0\nwong 0\nwont 0\nwood 0\nwoodburn 0\nwoodbury 0\nwooden 0\nwoodhaven 0\nwoodlawn 0\nwoods 0\nwoodward 0\nwoody 0\nwoof 0\nwoofers 0\nwoofing 0\nwool 0\nwoolard 0\nwoomera 0\nwor 0\nworcester 0\nworcestershire 0\nword 0\nworded 0\nworden 0\nwording 0\nwordperfect 0\nwordprocessors 0\nwords 0\nwordt 0\nworf 0\nwork 0\nworkable 0\nworkaholic 0\nworkaround 0\nworkarounds 0\nworked 0\nworker 0\nworkers 0\nworkgroup 0\nworkgroups 0\nworking 0\nworkings 0\nworkplace 0\nworks 0\nworksation 0\nworkshop 0\nworkshops 0\nworkspace 0\nworkspaces 0\nworkstation 0\nworkstations 0\nworld 0\nworlds 0\nworldscript 0\nworldview 0\nworldwide 0\nworm 0\nworms 0\nworn 0\nworried 0\nworries 0\nworrisome 0\nworry 0\nworrying 0\nworse 0\nworst 0\nworth 0\nworthington 0\nworthless 0\nworths 0\nworthwhile 0\nworthy 0\nwould 0\nwoulda 0\nwouldany 0\nwouldn 0\nwouldpledge 0\nwound 0\nwounded 0\nwow 0\nwp 0\nwpd 0\nwpi 0\nwpwood 0\nwq 0\nwr14 0\nwrap 0\nwrapped 0\nwrapper 0\nwrappers 0\nwrapping 0\nwraps 0\nwrath 0\nwreak 0\nwreath 0\nwrecking 0\nwren 0\nwrench 0\nwri 0\nwright 0\nwrights 0\nwrigley 0\nwrist 0\nwrists 0\nwritable 0\nwrite 0\nwriter 0\nwriters 0\nwrites 0\nwriteup 0\nwriting 0\nwritings 0\nwritten 0\nwrl 0\nwrong 0\nwrongly 0\nwrote 0\nwrt 0\nwrung 0\nws 0\nws8n 0\nwsanders 0\nwsbk 0\nwscrawl 0\nwsf 0\nwsinfo03 0\nwsinpa04 0\nwsmart 0\nwsmr 0\nwsos41 0\nwstomv 0\nwstuartj 0\nwsu 0\nwtem 0\nwti 0\nwtr 0\nwtte 0\nwu 0\nwuarchive 0\nwupost 0\nwuppe 0\nwustl 0\nwv 0\nwvnet 0\nww2 0\nwwcs 0\nwwdc 0\nwwi 0\nwwii 0\nwwiv 0\nwwivnet 0\nwwl 0\nwx2 0\nwyatt 0\nwynblatt 0\nwynn 0\nwyse 0\nwysiwg 0\nwysiwig 0\nwysiwis 0\nwysiwyg 0\nwysp 0\nwyvern 0\nwätte 0\nx0 0\nx1 0\nx102a 0\nx10r4 0\nx10th 0\nx11 0\nx11perf 0\nx11perfcomp 0\nx11r1 0\nx11r3 0\nx11r4 0\nx11r4_386i 0\nx11r4_sunos4 0\nx11r5 0\nx11r5patch23 0\nx11r5pl19 0\nx11r5pl22 0\nx11r6 0\nx11rn 0\nx11term 0\nx132 0\nx1993 0\nx1cgdtvmdy965 0\nx2 0\nx200wbk0_ca0n 0\nx2079 0\nx226 0\nx2313 0\nx239 0\nx253 0\nx256q 0\nx266 0\nx27 0\nx287 0\nx28v 0\nx3 0\nx3270 0\nx3289 0\nx330 0\nx386 0\nx386keybd 0\nx386mono 0\nx3d 0\nx4coher 0\nx5 0\nx6172 0\nx800 0\nx86 0\nx9 0\nx_allocnamedcolor 0\nx_creategc 0\nx_getimage 0\nx_setfontpath 0\nx_shmputimage 0\nxa 0\nxa_font 0\nxa_font_name 0\nxa_rgb_best_map 0\nxa_rgb_default_map 0\nxa_window 0\nxabout 0\nxada 0\nxaddr 0\nxall 0\nxalloccolor 0\nxalloccolorcells 0\nxallocsizehints 0\nxamine 0\nxand 0\nxannounce 0\nxannouncement 0\nxanon 0\nxap10fon 0\nxap13exe 0\nxapollo 0\nxappeal 0\nxapplresdir 0\nxarchie 0\nxargc 0\nxargs 0\nxargv 0\nxatom 0\nxauth 0\nxavier 0\nxaw 0\nxaw3d 0\nxawtextedit 0\nxawtextresizeheight 0\nxawtextwrapword 0\nxb 0\nxbae 0\nxball 0\nxbbs 0\nxbegin 0\nxbell 0\nxbench 0\nxbfe 0\nxbh 0\nxbibliography 0\nxbiff 0\nxbm 1\nxbook 0\nxbuild 0\nxbutton 0\nxc 0\nxc_crosshair 0\nxc_watch 0\nxcalc 0\nxceed 0\nxcessory 0\nxcf 0\nxchangegc 0\nxchangewindowattributes 0\nxchar 0\nxcharset 0\nxcheck_io 0\nxchecktypedwindowevent 0\nxchess 0\nxchongo 0\nxchron 0\nxcleararea 0\nxclient 0\nxclients 0\nxclipboard 0\nxclock 0\nxclosedisplay 0\nxclrp 0\nxclrs 0\nxcms 0\nxcmsdb 0\nxcmsstorecolors 0\nxcmstekhvcquerymaxv 0\nxcmstekhvcqueryminv 0\nxcmstest 0\nxco 0\nxcol_len 0\nxcolor 0\nxconfig 0\nxconndis 0\nxconnectionnumber 0\nxconsole 0\nxconsortium 0\nxcop 0\nxcopyarea 0\nxcopyplane 0\nxcopyright 0\nxcreatecolormap 0\nxcreatefontcursor 0\nxcreategc 0\nxcreateimage 0\nxcreatepixmap 0\nxcreateregion 0\nxcreatesimplewindow 0\nxcreatewindow 0\nxcrichtext 0\nxcteatewindow 0\nxcu 0\nxcuckoo 0\nxcursor 0\nxcursor4 0\nxcutsel 0\nxdate 0\nxdbx 0\nxdebug 0\nxdefaultgcofscreen 0\nxdefaults 0\nxdefinecursor 0\nxdesigner 0\nxdisplay 0\nxdisplayheight 0\nxdisplaywidth 0\nxditview 0\nxdm 0\nxdmcp 0\nxdomain 0\nxdpr 0\nxdpyinfo 0\nxdrawline 0\nxdrawpoint 0\nxdrawrectangle 0\nxdswm 0\nxdtm 0\nxdump1 0\nxdvi 0\nxedit 0\nxelion 0\nxelm 0\nxemail 0\nxend 0\nxengine 0\nxenix 0\nxenon 0\nxentry 0\nxenvironment 0\nxerox 0\nxerrors 0\nxess 0\nxetron 0\nxev 0\nxevent 0\nxevents 0\nxew 0\nxexposeevent 0\nxeyes 0\nxfacemaker2 0\nxfaq2texinfo 0\nxfd 0\nxfed 0\nxfedor 0\nxfig 0\nxfile 0\nxfilesearchpath 0\nxfillrectangle 0\nxfix 0\nxflush 0\nxfm2 0\nxfontsel 0\nxfontstruct 0\nxfor 0\nxfree 0\nxfree86 0\nxfrom 0\nxfuncs 0\nxga 0\nxga2 0\nxgas 0\nxgc 0\nxget_line 0\nxget_selection 0\nxgetatomname 0\nxgetfontproperty 0\nxgetftp 0\nxgetimage 0\nxgetmodifiermapping 0\nxgetpixel 0\nxgetrgbcolormap 0\nxgetvisualinfo 0\nxgetwindowattributes 0\nxgetwindowproperty 0\nxgks 0\nxgkswidget 0\nxgoals 0\nxgobi 0\nxgod 0\nxgolf 0\nxgoodies 0\nxgopher 0\nxgrab 0\nxgrabkey 0\nxgrabsc 0\nxgrabserver 0\nxgranted 0\nxgraph 0\nxgroups 0\nxhib92 0\nxhibit 0\nxhibition 0\nxhints 0\nxhost 0\nxhow 0\nxhp 0\nxi 0\nxichang 0\nxiconfiywindow 0\nxiconifywindow 0\nxid 0\nxie 0\nxif 0\nxifileselector 0\nxii 0\nxim 0\nximage 0\nximagehandler 0\nximages 0\nximp 0\nxin 0\nxinfo 0\nxinformation 0\nxinit 0\nxinitrc 0\nxinputextension 0\nxinstallcolormap 0\nxint 0\nxinternatom 0\nxinto 0\nxio 0\nxiohandler 0\nxiorecover 0\nxjewel 0\nxjudging 0\nxkernel 0\nxkeyevent 0\nxkeysymdb 0\nxkill 0\nxl 0\nxlab 0\nxlalonde 0\nxlarry 0\nxlc 0\nxlfd 0\nxli 0\nxlib 0\nxlibint 0\nxlisp 0\nxlnth 0\nxload 0\nxloadimage 1\nxlocale 0\nxlocaleint 0\nxlock 0\nxlogo 0\nxlong 0\nxlookupstring 0\nxlsatoms 0\nxlsclients 0\nxlsfonts 0\nxm 0\nxm0v 0\nxm1 0\nxm3dy95d 0\nxm5 0\nxmag 0\nxmail 0\nxmailtool 0\nxmain 0\nxman 0\nxmanycallbackstruct 0\nxmapraised 0\nxmapsubwindows 0\nxmapwindow 0\nxmarc 0\nxmatchvisualinfo 0\nxmattach_form 0\nxmcr_cancel 0\nxmcr_help 0\nxmcr_ok 0\nxmcreatedialog 0\nxmcreatequestiondialog 0\nxmdialog_application_modal 0\nxmdialog_primary_application_modal 0\nxmdrawingarea 0\nxmelba 0\nxmenu 0\nxmessage 0\nxmfontlist 0\nxmform 0\nxmgr 0\nxmgraph 0\nxmh 0\nxmkmf 0\nxmlabel 0\nxmm 0\nxmmainwindowwidgetclass 0\nxmnaccelerator 0\nxmnactivatecallback 0\nxmnblinkrate 0\nxmncancelcallback 0\nxmncolormap 0\nxmncolumns 0\nxmndialogstyle 0\nxmnheight 0\nxmnhelpcallback 0\nxmnmessagestring 0\nxmnmodifyverifycallback 0\nxmnokcallback 0\nxmnrightattachment 0\nxmnshowvalue 0\nxmntopattachment 0\nxmnvalue 0\nxmnverifybell 0\nxmnwidth 0\nxmodem 0\nxmodmap 0\nxmon 0\nxmosaic 0\nxmovewindow 0\nxmpushbutton 0\nxmpushbuttonwidgetclass 0\nxmrowcolumnwidgetclass 0\nxmscale 0\nxmscalegetvalue 0\nxmstring 0\nxmstring_default_charset 0\nxmstringcharset 0\nxmstringcreateltor 0\nxmstringfree 0\nxmt 0\nxmtext 0\nxmtextfield 0\nxmtextverifyptr 0\nxmtextwidgetclass 0\nxmu 0\nxmucreatecolormap 0\nxmucvtstringtowidget 0\nxmugetcolormapallocation 0\nxmulib 0\nxmulookupstandardcolormap 0\nxmusrc 0\nxmustandardcolormap 0\nxmx 0\nxn0 0\nxname 0\nxnews 0\nxnextevent 0\nxnote 0\nxo 0\nxofficial 0\nxol 0\nxon 0\nxop 0\nxopen_build 0\nxopen_output 0\nxopen_program 0\nxopen_remark0\nxopendisplay 0\nxopenwindow 0\nxor 0\nxorg 0\nxour 0\nxoutput_author 0\nxoutput_build 0\nxoutput_end 0\nxoutput_entry 0\nxoutput_info 0\nxoutput_program 0\nxoutput_remark 0\nxoutput_till_dot 0\nxp 0\nxp380 0\nxp3z 0\nxp60 0\nxpaint 0\nxpaint2pl3 0\nxparse_args 0\nxparsegeometry 0\nxpermits 0\nxpert 0\nxperts 0\nxphoon 0\nxpic 0\nxpick 0\nxplace 0\nxplaces 0\nxplot 0\nxpm 1\nxpm1 0\nxpmcolorkey 0\nxpmp 0\nxpointer 0\nxport 0\nxpos 0\nxpostit 0\nxpr 0\nxpresso 0\nxprint 0\nxprinter 0\nxprompt 0\nxproof 0\nxprop 0\nxps 0\nxptable 0\nxptablechildposition 0\nxptablewidgetclass 0\nxput 0\nxputimage 0\nxquerybestcursor 0\nxquerycolor 0\nxquerycolors 0\nxquerytree 0\nxr 0\nxr6 0\nxraisewindow 0\nxray 0\nxrcjd 0\nxrdb 0\nxrecplay 0\nxrectinregion 0\nxrefresh 0\nxregistry 0\nxremote 0\nxreparentwindow 0\nxresizewindow 0\nxresource 0\nxresources 0\nxrhf 0\nxrlogin 0\nxrlogind 0\nxrm 0\nxrm_name 0\nxrmgetresource 0\nxrmnametostring 0\nxrmoptiondescrec 0\nxrmoptionseparg 0\nxrmparsecommand 0\nxrmpermstringtoquark 0\nxrmrzf1ilxsv 0\nxrmstringtoquark 0\nxrmvalue 0\nxrmvalueptr 0\nxrn 0\nxroach 0\nxroff 0\nxrolo 0\nxrotfont 0\nxrpc 0\nxrsh 0\nxrt 0\nxrule 0\nxrules 0\nxrunner 0\nxrx 0\nxs 0\nxsat 0\nxsat1 0\nxscm1 0\nxscope 0\nxscribble 0\nxsculptor 0\nxsections 0\nxselectinput 0\nxselection 0\nxsendevent 0\nxserver 0\nxservers 0\nxsession 0\nxset 0\nxsetforeground 0\nxsetfunction 0\nxsetioerrorhandler 0\nxsetmodifiermapping 0\nxsetroot 0\nxsetstandardproperties 0\nxsettransientforhint 0\nxsetup_0 0\nxsetwindowattributes 0\nxsetwindowcolormap 0\nxsetwmcolormapwindows 0\nxsetwmhints 0\nxsetwmnormalhints 0\nxsetwmproperties 0\nxshmattach 0\nxshmdetach 0\nxshmputimage 0\nxsi 0\nxsight 0\nxsizehints 0\nxskel 0\nxsky 0\nxsl 0\nxsnap 0\nxsoft 0\nxspread2 0\nxssr 0\nxstdcmap 0\nxstone 0\nxstones 0\nxstorecolor 0\nxstorecolors 0\nxstuff 0\nxstuffs 0\nxsun 0\nxsun24 0\nxsun2a 0\nxsunmono 0\nxswa 0\nxswarm 0\nxsync 0\nxsynchonize 0\nxsyncs 0\nxt 0\nxt4getresl 0\nxt_728840923 0\nxtactionsrec 0\nxtaddactions 0\nxtaddcallback 0\nxtaddconverter 0\nxtaddeventhandler 0\nxtaddinput 0\nxtaddtimeout 0\nxtaddworkproc 0\nxtallocategc 0\nxtapp 0\nxtappaddactionhook 0\nxtappaddactions 0\nxtappaddconverter 0\nxtappaddinput 0\nxtappaddtimeout 0\nxtappaddworkproc 0\nxtappcontext 0\nxtappcreateshell 0\nxtapperror 0\nxtappgeterrordatabase 0\nxtappgeterrordatabasetext 0\nxtappgetselectiontimeout 0\nxtappinitialize 0\nxtappmainloop 0\nxtappnextevent 0\nxtapppeekevent 0\nxtapppending 0\nxtappprocessevent 0\nxtappreleasecacherefs 0\nxtappseterrorhandler 0\nxtappseterrormsghandler 0\nxtappsetfallbackresources 0\nxtappsetselectiontimeout 0\nxtappsettypeconverter 0\nxtappsetwarninghandler 0\nxtappsetwarningmsghandler 0\nxtappwarning 0\nxtappwarningmsg 0\nxtargval 0\nxtb5f5qasr 0\nxtc 0\nxtcacheall 0\nxtcachebydisplay 0\nxtcachenone 0\nxtcachetype 0\nxtcallactionproc 0\nxtcallbackproc 0\nxtcallbackreleasecacheref 0\nxtcallbackreleasecachereflist 0\nxtcallcallbacklist 0\nxtcallconverter 0\nxtcalloc 0\nxtclosedisplay 0\nxtconfigurewidget 0\nxtconvert 0\nxtconvertandstore 0\nxtconvertarglist 0\nxtconvertargrec 0\nxtcreateapplicationcontext 0\nxtcreateapplicationshell 0\nxtcreatemanagedwidget 0\nxtcreatepopupshell 0\nxtcreatewidget 0\nxtcvtstringtofont 0\nxtdebug 0\nxtdestroyapplicationcontext 0\nxtdestroygc 0\nxtdestroywidget 0\nxtdestructor 0\nxtdirectconvert 0\nxtdispatchevent 0\nxtdisplay 0\nxtdisplayinitialize 0\nxtdisplayofobject 0\nxtdisplaystringconversionwarning 0\nxtdisplaytoapplicationcontext 0\nxtdm 0\nxtech 0\nxterm 0\nxterminal 0\nxterminals 0\nxterms 0\nxterror 0\nxterrormsg 0\nxtest 0\nxtex 0\nxtfindfile 0\nxtfree 0\nxtgetactionkeysym 0\nxtgetactionlist 0\nxtgetapplicationnameandclass 0\nxtgetapplicationresources 0\nxtgetconstraintresourcelist 0\nxtgeterrordatabase 0\nxtgeterrordatabasetext 0\nxtgetkeysymtable 0\nxtgetmulticlicktime 0\nxtgetresourcelist 0\nxtgetselectionrequest 0\nxtgetselectiontimeout 0\nxtgetselectionvalue 0\nxtgetselectionvalueincremental 0\nxtgetselectionvaluesincremental 0\nxtgetvalues 0\nxtgrabexclusive 0\nxtgrabnone 0\nxthe 0\nxthis 0\nxti 0\nxtian 0\nxtici 0\nxtidentifywindows 0\nxtiff 0\nxtimall 0\nxtinitialize 0\nxtinitializewidgetclass 0\nxtinserteventhanlder 0\nxtinsertraweventhandler 0\nxtinstallaccelerators 0\nxtinstallallaccelerators 0\nxtismanaged 0\nxtisobject 0\nxtisrectobj 0\nxtitle 0\nxtkeysymtokeycodelist 0\nxtlasttimestampprocessed 0\nxtm 0\nxtmainloop 0\nxtmakegeometryrequest 0\nxtmakeresizerequest 0\nxtmalloc 0\nxtmanage 0\nxtmanagechild 0\nxtmenupopdown 0\nxtmenupopup 0\nxtmovewidget 0\nxtnaccelerators 0\nxtnallowshellresize 0\nxtnallowvert 0\nxtname 0\nxtnametowidget 0\nxtnargc 0\nxtnargv 0\nxtnborderwidth 0\nxtncallback 0\nxtncolormap 0\nxtncursor 0\nxtndepth 0\nxtnedittype 0\nxtnew 0\nxtnewstring 0\nxtnextevent 0\nxtnforcebars 0\nxtnfromhoriz 0\nxtnfromvert 0\nxtngetvalue 0\nxtnheight 0\nxtniconifypixmap 0\nxtninput 0\nxtnlabel 0\nxtnlength 0\nxtnresize 0\nxtnsensitive 0\nxtnstring 0\nxtnumber 0\nxtnusestringinplace 0\nxtnvalue 0\nxtnvisual 0\nxtnwidth 0\nxtnwrap 0\nxtnx 0\nxtny 0\nxtoffsetof 0\nxtool 0\nxtopendisplay 0\nxtops 0\nxtouch 0\nxtoverridetranslations 0\nxtownselection 0\nxtownselectionincremental 0\nxtpanel 0\nxtparent 0\nxtparsetranslationtable 0\nxtpeekevent 0\nxtpending 0\nxtphase2destroy 0\nxtpointer 0\nxtpopup 0\nxtpoupspringloaded 0\nxtquerygeometry 0\nxtra 0\nxtranslatecoord 0\nxtranslatecoordinates 0\nxtrap 0\nxtrap_v31 0\nxtrapv33_x11r5 0\nxtrealizewidget 0\nxtrealloc 0\nxtregistergrabaction 0\nxtrelaizewidget 0\nxtreleasegc 0\nxtremoveactiohhook 0\nxtreparentwidget 0\nxtresizewidget 0\nxtresolvepathname 0\nxtresource 0\nxtrimmediate 0\nxtrint 0\nxtroff 0\nxtrstring 0\nxtrvisual 0\nxtrwidget 0\nxtscreen 0\nxtscreendatabase 0\nxtscreenofobject 0\nxtsetarg 0\nxtseterrorhandler 0\nxtseterrormsghandler 0\nxtsetfloatarg 0\nxtsetlanguageproc 0\nxtsetmulticlicktime 0\nxtsetselectiontimeout 0\nxtsettypeconverter 0\nxtsetvalues 0\nxtsetwarninghandler 0\nxtsetwarningmsghandler 0\nxtsetwmcolormapwindows 0\nxtshellstrings 0\nxtspecificationrelease 0\nxtstringconversionwarning 0\nxtstringdefines 0\nxtstrings 0\nxttblposition 0\nxttimercallbackproc 0\nxttoolkitinitialize 0\nxttranslatecoordinates 0\nxttranslatecoords 0\nxttypeconverter 0\nxtungrabbutton 0\nxtungrabkey 0\nxtungrabkeybard 0\nxtungrabpointer 0\nxtunmapwidget 0\nxtunrealizewidget 0\nxtv 0\nxtva 0\nxtvaappinitialize 0\nxtvacreatemanagedwidget 0\nxtvasetvalues 0\nxtwarning 0\nxtwarningmsg 0\nxtwidgetbaseoffset 0\nxtwidgetproc 0\nxtwidgettoapplicationcontext 0\nxtwindow 0\nxtwindowofobject 0\nxug 0\nxui 0\nxungrabserver 0\nxunionrectwithregion 0\nxupdate2 0\nxusage 0\nxuserfilesearchpath 0\nxussr 0\nxutil 0\nxuuencode 0\nxuv 0\nxv 4\nxv11r4 0\nxv_create 0\nxv_depth 0\nxv_get 0\nxv_opaque 0\nxv_xid 0\nxvertext 0\nxvgr 0\nxvideo 0\nxview 0\nxview3 0\nxviewbug 0\nxviii 0\nxvisualidfromvisual 0\nxvisualinfo 0\nxvoid 0\nxvt 0\nxw 0\nxwais 0\nxwall 0\nxwd 0\nxwd2ps 0\nxwebster 0\nxwhat 0\nxwid 0\nxwidgets 0\nxwindow 0\nxwindowevent 0\nxwindows 0\nxwininfo 0\nxwip 0\nxwith 0\nxwmhints 0\nxworld 0\nxwp 0\nxwud 0\nxx 0\nxxdate 0\nxxgdb 0\nxxmessage 0\nxxx 0\nxxx_xmbctidtocsid 0\nxxx_xmbfscs 0\nxxx_xwcdecomposeglyphcharset 0\nxxxxx 0\nxy 0\nxybitmap 0\nxylogics 0\nxyztwm 0\nxyzzy 0\nxzap 0\ny1 0\ny2 0\ny2lpe9hpai 0\ny3 0\ny4u5exb 0\nya 0\nyaer 0\nyaghib 0\nyah 0\nyak 0\nyale 0\nyale_bsc 0\nyaleta 0\nyalevm 0\nyali 0\nyallara 0\nyamada 0\nyamakawa 0\nyamamoto 0\nyamauchi 0\nyang 0\nyank 0\nyanked 0\nyankee 0\nyankees 0\nyankess 0\nyanking 0\nyankkes 0\nyankovic 0\nyanks 0\nyar 0\nyard 0\nyards 0\nyarns 0\nyaser 0\nyastrzemski 0\nyaw 0\nyaz 0\nycc 0\nye 0\nyea 0\nyeager 0\nyeah 0\nyear 0\nyearly 0\nyears 0\nyeasteryears 0\nyee 0\nyell 0\nyelling 0\nyellow 0\nyeltsin 0\nyenkovic 0\nyep 0\nyer 0\nyes 0\nyesterday 0\nyesterdaysdate 0\nyet 0\nyeung 0\nyf 0\nyfn 0\nyfo 0\nyi2ql 0\nyield 0\nyielded 0\nyields 0\nyih 0\nyihpyng 0\nyikes 0\nyip 0\nyk 0\nylnth 0\nyo 0\nyogi 0\nyokogawa 0\nyom 0\nyoo 0\nyorba 0\nyork 0\nyork_ 0\nyorks 1\nyorku 0\nyorn 0\nyoshio 0\nyoshiro 0\nyou 3\nyoug 0\nyoum 0\nyoung 0\nyounger 0\nyoungsters 0\nyoungstown 0\nyount 0\nyour 1\nyour_email_address 0\nyour_favorite_wm 0\nyour_title_goes_here 0\nyourhost 0\nyourname 0\nyours 0\nyourself 0\nyouth 0\nyouths 0\nyoyodyne 0\nypos 0\nyr 0\nysc 0\nyscvax 0\nyso 0\nystein 0\nysu 0\nytou 0\nytwu 0\nyue 0\nyue1016 0\nyuggoth 0\nyukawa 0\nyuma 0\nyup 0\nyuppie 0\nyur 0\nyuri 0\nyuv 0\nywid 0\nyyl5tm5 0\nz0 0\nz1 0\nz3 0\nz_millerwl 0\nza 0\nzaandam 0\nzac 0\nzack 0\nzaken 0\nzal 0\nzane 0\nzanian 0\nzap 0\nzaphod 0\nzappa 0\nzappala 0\nzapped 0\nzapping 0\nzariski 0\nzavatson 0\nzborowski 0\nzealand 0\nzeh 0\nzeile 0\nzelenetz 0\nzellner 0\nzen 0\nzenit 0\nzenith 0\nzentrum 0\nzephir 0\nzephyr 0\nzephyrs 0\nzero 0\nzeroth 0\nzeta 0\nzeus 0\nzeven 0\nzgdv 0\nzgdvda 0\nzhao 0\nzhihua 0\nzhou 0\nzia 0\nziegenfe 0\nziegenfus 0\nzien 0\nziffnet 0\nzijdenbos 0\nzijn 0\nzillion 0\nzilog 0\nzimbelman 0\nzimmer 0\nzing 0\nzip 0\nzipping 0\nzkgn4h9a 0\nzkh 0\nzkxi 0\nzmacs 0\nzmef 0\nzmore 0\nzo 0\nzod 0\nzodiac 0\nzogeheten 0\nzok 0\nzombie 0\nzombies 0\nzond 0\nzone 0\nzonker 0\nzoo 0\nzoology 0\nzoom 0\nzooming 0\nzooms 0\nzou 0\nzowie 0\nzpixmap 0\nzrai02 0\nzset 0\nzterm 0\nztivax 0\nzullen 0\nzulu 0\nzuma 0\nzupcic 0\nzurbrin 0\nzure 0\nzurich 0\nzv 0\nzvi 0\nzviq 0\nzwaartepunten 0\nzwak 0\nzwakke 0\nzware 0\nzwarte 0\nzxxst 0\nzyxel 0\nzz 0\nzztop 0\nzzzzzz 0\nzzzzzzt 0\nªl 0\nñaustin 0\n"
    }
   ],
   "source": [
    "vector = word.toarray()\n",
    "\n",
    "for word,count in zip(txt_vec.get_feature_names()[:], vector[0, :]):\n",
    "    print(word, count)"
   ]
  },
  {
   "cell_type": "code",
   "execution_count": null,
   "metadata": {},
   "outputs": [],
   "source": []
  }
 ]
}