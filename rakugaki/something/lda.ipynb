{
 "nbformat": 4,
 "nbformat_minor": 2,
 "metadata": {
  "language_info": {
   "name": "python",
   "codemirror_mode": {
    "name": "ipython",
    "version": 3
   },
   "version": "3.6.9-final"
  },
  "orig_nbformat": 2,
  "file_extension": ".py",
  "mimetype": "text/x-python",
  "name": "python",
  "npconvert_exporter": "python",
  "pygments_lexer": "ipython3",
  "version": 3,
  "kernelspec": {
   "name": "python36964bit259114d5b7d94317b5c607b68a95749d",
   "display_name": "Python 3.6.9 64-bit"
  }
 },
 "cells": [
  {
   "cell_type": "code",
   "execution_count": 1,
   "metadata": {},
   "outputs": [
    {
     "name": "stdout",
     "output_type": "stream",
     "text": "wellcom back master. let's start what you do.\n"
    }
   ],
   "source": [
    "print(\"wellcom back master. let's start what you do.\")"
   ]
  },
  {
   "cell_type": "code",
   "execution_count": 2,
   "metadata": {},
   "outputs": [
    {
     "name": "stdout",
     "output_type": "stream",
     "text": "completed\n"
    }
   ],
   "source": [
    "###import module you need.\n",
    "import numpy\n",
    "from sklearn.datasets import fetch_20newsgroups\n",
    "from sklearn.feature_extraction.text import CountVectorizer as CV\n",
    "###contenued...\n",
    "###For test\n",
    "from sklearn.decomposition import LatentDirichletAllocation as LDA\n",
    "\n",
    "print('completed')"
   ]
  },
  {
   "cell_type": "code",
   "execution_count": 3,
   "metadata": {},
   "outputs": [
    {
     "data": {
      "text/plain": "2.2.22.80\\n',\n \"From: jcav@ellis.uchicago.edu (JohnC)\\nSubject: how do you like the Apple Color OneScanner?\\nReply-To: jcav@midway.uchicago.edu\\nOrganization: The Royal Society for Putting Things on Top of Other Things\\nLines: 13\\n\\nWe're all set to buy one of these for the office, to use for scanning in\\ncolor photographs and for optical character recognition.  We've played with\\nthe original grayscale OneScanner and were very pleased.  Is the color model\\ncomparable in quality?\\n\\nAlso, what brand of OCR software would you recommend?  We're leaning toward\\nCaere OmniPage.  Any better ideas?  Thanks.\\n\\n-- \\nJohn Cavallino                  |  EMail: jcav@midway.uchicago.edu\\nUniversity of Chicago Hospitals |         John_Cavallino@uchfm.bsd.uchicago.edu\\nOffice of Facilities Management | USMail: 5841 S. Maryland Ave, MC 0953\\nB0 f++ w c+ g++ k+ s++ e h- p   |         Chicago, IL  60637\\n\",\n \"Subject: Re: 68LC040 vs. 68RC040 in Centris 650\\nFrom: Bruce@hoult.actrix.gen.nz (Bruce Hoult)\\nLines: 16\\n\\nZack T. Smith writes:\\n> konpej@eua.ericsson.se (Per Ejeklint) writes:\\n> \\n> >Hm, maybe I'm missing something, but the Centris 650 has the '040 with FPU.\\n> >At least the ones shipped here in Europe.\\n> \\n> You are indeed. The 4/80 model (shipped here) definitely does not have the\\n> FPU. I own one; I know.\\n\\n\\nNo, he's not missing anything.  You're right that some models of the 650 ship in\\nthe USA without FPU or Ethernet.  Per Ejeklint is also right -- *all*, I repeat,\\n*ALL* Centris 650's sold here in New Zealand and, I assume, Europe have the FPU\\nand Ethernet.\\n\\nI know.  I bought a 650 4/80 and it has both FPU and Ethernet.\\n\",\n \"From: mirsky@hal.gnu.ai.mit.edu (David Joshua Mirsky)\\nSubject: Re: Desktop rebuild and Datadesk keyboard?\\nOrganization: dis\\nLines: 32\\nNNTP-Posting-Host: hal.ai.mit.edu\\n\\nIn article <C5I77w.3oE@cs.uiuc.edu> tthiel@cs.uiuc.edu (Terry Thiel) writes:\\n>Ijust got a new Datadesk 101E keyboard to go with my new Centris 610 and have a\\n>problem doing desktop rebuilds.  I hold down the Command and Option keys and\\n>restart but nothing happens.  The DIP switches are set the right way and the\\n>Command and Option keys seem to work on anything else.  I'm running 7.1 btw.\\n>Anyone know what the problem is?\\n>-Terry\\n\\n\\nI am resending this message because my news program may have goofed the first\\ntime.\\n\\nTerry, I recently bought an LCIII and a Datadesk 101E. I don't\\nremember trying to rebuild the desktop with it, however it did give me\\na strange problem.  When I held down shift during startup to disable\\nall extensions, nothing happened. I tried it with another keyboard, using\\nthe same adb connector cable- and it worked with the other keyboard.\\nThe shift key on the Datadesk keyboard worked well otherwise. I checked\\nthe dipswitches and they are fine.  Try disabling your extensions and tell\\nme if it works.\\n             \\nI am annoyed with Datadesk.  I sent them the keyboard in the mail for\\ninspection/repair/replacement.  The technician on the phone said they\\nhave a 10-14 day turn around time- meaning you should receive the\\ninspected/repaired keyboard in that time.  Well, they have had the          \\nkeyboard for over 3 weeks and I still have gotten very little info\\nfrom them about it. It's annoying because it cost me $12 to send them\\nthe keyboard and their technical support line is not toll free. tell me\\nif you have a similar experience with them.\\n\\n-David Mirsky\\nmirsky@gnu.ai.mit.edu\\n\",\n \"From: horan@cse.unl.edu (Mark Horan)\\nSubject: Re: Best Second Baseman?\\nArticle-I.D.: crcnis1.1pqvusINNmjm\\nDistribution: usa\\nOrganization: University of Nebraska--Lincoln\\nLines: 29\\nNNTP-Posting-Host: cse.unl.edu\\n\\nthf2@ellis.uchicago.edu (Ted Frank) writes:\\n\\n>In article <1993Mar29.044248.16010@sarah.albany.edu> js8484@albnyvms.bitnet writes:\\n>>Personally, I think that Alomar is all hype. He is producing incredibly now,\\n>>but in the long run, he will never put up the numbers that Sandberg has. For\\n>>THIS moment, Alomar may be the best, but overall Sandberg wins out by a long\\n>>shot.\\n\\n>When Sandberg was Alomar's age, he was putting up .261 seasons with no power.\\n>Alomar's 1992 OBA is 25 points higher than Sandberg's career high.  Alomar's\\n>career high in doubles and triples is higher than Sandberg's.  Sandberg is\\n>still better than Alomar, but only because Alomar hasn't reached his full\\n>potential yet.  Alomar's got a 2.5 year-headstart on Sandberg (he has 862\\n>hits; Sandberg didn't have 862 hits until he was 26), and is likely to\\n>put up better career numbers than Sandberg in everything except home runs.\\n>He'll pass Sandberg in stolen bases sometime in 1995.\\n\\nSandberg is not particulary known for his stolen bases.  What competition did \\nAlomar have?  Sandberg came in a year after Ripken, and the same year as Boggs,\\nGwynn, and the other magicians.  So less attention was given to Sandberg. \\nAlomar is the only one in his class to be worth a mediocre.  Besides the \\nnumbers don't count.  National league pitchers are much better pitchers. \\n\\nLarry                          on someone elses account \\n--\\n\\nMark Horan --\\nhoran@cse.unl.edu      \\nianr053@unlvm\\n\",\n \"From: ccdw@kudu.ru.ac.za (Dave Wilson)\\nSubject: Xlib timeouts?\\nSummary: How to do timeouts using Xlib\\nKeywords: Xlib timeouts\\nArticle-I.D.: kudu.ccdw.735917051\\nOrganization: Rhodes University, Grahamstown, South Africa\\nLines: 12\\n\\nI am in the process of modifying an X application that uses Xlib.  I'd\\nlike to include a timer-driven facility (for network polling), but cannot\\nsee how to do it using Xlib.  I know it can be done with Xaw, using\\nXtAppAddTimeout and XtTimerCallBackProc.  How do I do the same using\\nXlib?\\n\\nThanks for any help.  Please email.\\n\\n--\\nDave Wilson\\nComputing Centre, Rhodes University\\nGrahamstown, South Africa\\n\",\n 'From: gweil@ibeam.intel.com (Garry Weil)\\nSubject: Monitor recommendation Needed\\nSummary: Which one larger than 14\"?\\nOrganization: Multimedia Software Technology Group\\nLines: 16\\n\\n\\nI have finally decided to update my SE :-)).\\nI am planning on buying a Centris 610-8/230 CD.\\nNow, what monitor should I get? Here are a few\\nguidelines:\\n\\tMy wife uses PageMaker occasionally, I use Excel sometimes\\n\\tand I do alot of Telecommuting from home to work. We both\\n\\tdo Word processing. Greater than 14 inches.\\n\\nI have looked at the Radius Color Pivot. This can be bought for\\nunder $1000. I have heard good things about the E-Machines T-16,\\nthe older model not the new T-16 II. How about the Super Mac 17T?\\nThese both can be had for a little over $1000. Any others??\\n\\nGarry\\n\\n',\n 'From: hades@coos.dartmouth.edu (Brian V. Hughes)\\nSubject: Re: Installing RAM in a Quadra 800\\nReply-To: hades@Dartmouth.Edu\\nOrganization: Dartmouth College, Hanover, NH\\nDisclaimer: Personally, I really don\\'t care who you think I speak for.\\nModerator: Rec.Arts.Comics.Info\\nLines: 55\\n\\ntruesdel@ics.uci.edu (Scott Truesdell) writes:\\n\\n>This is an aside to Brian Hughes\\'s (please, let\\'s lose the cute phony names\\n>everybody) posting about adding memory to a Quadra 800.\\n\\n    What phony names? My name is clearly visible in the headers, and I\\nsing the post with my account name. If you have a problem with that,\\nthen you will have to get over it. I\\'ve used this account name for over\\n10 years and the people who have been reading newsgroups for the last 7\\ngenerally recognize \"Hades\" as my account name. I have no intention of\\nchanging the way I post.\\n\\n>I installed a couple of 16MB SIMMs in my Quadra and was somewhat dismayed\\n>by the general complexity of the operation compared to, for example, the\\n>wonderfully designed LC III. It irritates me when Apple refuses to tell how\\n>to do it in the User\\'s Manual so you have to guess at how to disassemble\\n>the devise in question (it\\'s the same for adding memory to LaserWriter\\n>Pro\\'s).\\n\\n    It isn\\'t Apple\\'s responsibility to tell its customers how to fool\\naround with it\\'s hardware. That is what Apple Service Techs get paid to\\ndo. I personally like the design of the Q800, and applaud Apple for\\ncoming up with a good way to make use of the front space for all of\\nthose drive bays. I like it a lot better than the 900/950 design, except\\nfor those people who need Drive Arrays. I do, however, agree with you\\nabout the LW Pro design.\\n\\n>The operation isn\\'t very complicated if even a minimal amount of help were\\n>offered but Apple leaves you working blind.\\n\\n    Again, its\\'s not Apple\\'s place to make it easy for non-certified\\nservice people to fool around with Apple hardware, even if they did buy\\nit. Of course you are free to do what you want to your Mac, just don\\'t\\nget upset when your Apple Service Rep tells you that your warranty is no\\nlonger valid.\\n\\n>After the memory was installed I was distraught that the top of the SIMMs\\n>came into contact with the plastic case frame. Mine actually contacted the\\n>framework with quite a lot of pressure -- enough so that the assembly of\\n>the board back to the proper position was rather difficult and required\\n>some force. I could have filed a little excess material off the top of the\\n>SIMM boards but chose to let it stand as is. I have not had problems with\\n>RAM yet so I will consider the problem annoying but not catastrophic.\\n\\n    This sounds like the kind of problem I had when I installed 4MB\\nSIMMs into an LC, back before low-profile 4MB SIMMs were readily\\navailable. The standard 4MB SIMMs would contact the top of the case and\\nmake it a bit difficult to close the LC, but it did close and work just\\nfine. One of the nice things about Logic-Boards is that they are\\ngenerally quite flexible and can withstand a fair amount of pressure.\\n\\n-Hades\\n\\n\\n\\n',\n 'From: MUNIZB%RWTMS2.decnet@rockwell.com (\"RWTMS2::MUNIZB\")\\nSubject: Space Activities in Tucson, AZ ?\\nX-Added: Forwarded by Space Digest\\nOrganization: [via International Space University]\\nOriginal-Sender: isu@VACATION.VENARI.CS.CMU.EDU\\nDistribution: sci\\nLines: 7\\n\\nI would like to find out about space engineering employment and educational\\nopportunities in the Tucson, Arizona area.  E-mail responses appreciated.\\nMy mail feed is intermittent, so please try one or all of these addresses.\\n\\nBen Muniz      w(818)586-3578      MUNIZB%RWTMS2.decnet@beach.rockwell.com \\nor:  bmuniz@a1tms1.remnet.ab.com  MUNIZB%RWTMS2.decnet@consrt.rockwell.com\\n\\n',\n 'From: henry@zoo.toronto.edu (Henry Spencer)\\nSubject: Re: Space Station Redesign, JSC Alternative #4\\nOrganization: U of Toronto Zoology\\nLines: 14\\n\\nIn article <1ralibINNc0f@cbl.umd.edu> mike@starburst.umd.edu (Michael F. Santangelo) writes:\\n>... The only thing\\n>that scares me is the part about simply strapping 3 SSME\\'s and\\n>a nosecone on it and \"just launching it.\"  I have this vision\\n>of something going terribly wrong with the launch resulting in the\\n>complete loss of the new modular space station (not just a peice of\\n>it as would be the case with staged in-orbit construction).\\n\\nIt doesn\\'t make a whole lot of difference, actually, since they weren\\'t\\nbuilding spares of the station hardware anyway.  (Dumb.)  At least this\\nis only one launch to fail.\\n-- \\nSVR4 resembles a high-speed collision   | Henry Spencer @ U of Toronto Zoology\\nbetween SVR3 and SunOS.    - Dick Dunn  |  henry@zoo.toronto.edu  utzoo!henry\\n',\n \"From: ralph.buttigieg@f635.n713.z3.fido.zeta.org.au (Ralph Buttigieg)\\nSubject: Why not give $1 billion to first year-lo\\nOrganization: Fidonet. Gate admin is fido@socs.uts.edu.au\\nLines: 34\\n\\nOriginal to: keithley@apple.com\\nG'day keithley@apple.com\\n\\n21 Apr 93 22:25, keithley@apple.com wrote to All:\\n\\n kc> keithley@apple.com (Craig Keithley), via Kralizec 3:713/602\\n\\n\\n kc> But back to the contest goals, there was a recent article in AW&ST\\nabout a\\n kc> low cost (it's all relative...) manned return to the moon.  A General\\n kc> Dynamics scheme involving a Titan IV & Shuttle to lift a Centaur upper\\n kc> stage, LEV, and crew capsule.  The mission consists of delivering two\\n kc> unmanned payloads to the lunar surface, followed by a manned mission.\\n kc> Total cost:  US was $10-$13 billion.  Joint ESA(?)/NASA project was\\n$6-$9\\n kc> billion for the US share.\\n\\n kc> moon for a year.   Hmmm.  Not really practical.  Anyone got a\\n kc> cheaper/better way of delivering 15-20 tonnes to the lunar surface\\nwithin\\n kc> the decade?  Anyone have a more precise guess about how much a year's\\n kc> supply of consumables and equipment would weigh?\\n\\nWhy not modify the GD plan into Zurbrin's Compact Moon Direct scheme? let\\none of those early flight carry an O2 plant and make your own.\\n\\nta\\n\\nRalph\\n\\n--- GoldED 2.41+\\n * Origin: VULCAN'S WORLD - Sydney Australia (02) 635-1204  3:713/6\\n(3:713/635)\\n\",\n 'From: edwind@lims01.lerc.nasa.gov (Tom NGUYEN)\\nSubject: How to resolve different font formats ...?\\nOrganization: NASA Lewis Research Center\\nLines: 21\\nDistribution: world\\nNNTP-Posting-Host: lims01.lerc.nasa.gov\\nNews-Software: VAX/VMS VNEWS 1.41    \\n\\nHi All!\\n\\nI tried to run SoftPC, a PC emulation software program, installed on a Silicon \\nGraphics workstation from a Human Design System (HDS) X terminal, and \\neverything went fine, except the fonts could NOT be converted from one type \\nof format to the other - HDS uses different font format from SGI worksation.\\nSo, I have the following questions:\\n\\n1. How do you resolve different font formats from different machines?\\n\\n2. Is there a program to convert one type of font format to another?\\n\\nIf you have similar problems/experiences and have found a solution, please \\nlet me know.  Your help will be greatly appreciated!\\n\\nThank you in advance for your help and information.\\n\\nTom Nguen\\n\\nedwind@lims01.lerc.nasa.gov\\n\\n',\n \"From: davewood@bruno.cs.colorado.edu (David Rex Wood)\\nSubject: Rockies need some relief\\nNntp-Posting-Host: bruno.cs.colorado.edu\\nOrganization: University of Colorado, Boulder\\nLines: 13\\n\\nOnce again, the Rockies bullpen fell apart.  Andy Ashby pitched six (somewhat\\nshaky) innings giving up just one run.  Then game the dreaded relief.  Three\\npicthers combined to give up 3 runs (one each I believe) in the 7th inning\\nand blew the save opportunity.  (Final was 4-2 vs Expos).\\n\\nDespite their problems in the pen, I think the Rockies are a team that wont\\nbe taken lightly.  Going into today's game, the had the league's leading\\nhitter and RBI man (Galarraga), two of the leaders in stolen bases (Young\\nand Cole) and increasingly strong starting pitching.\\n-- \\n-------------------------------------------------------------------------------\\nDavid Rex Wood -- davewood@cs.colorado.edu -- University of Colorado at Boulder\\n-------------------------------------------------------------------------------\\n\",\n 'From: tracy@cs.ucf.edu (Tracy Rene Tolley)\\nSubject: HELP: xdm & Solaris2.1\\nSummary: help with xdm & Solaris2.1\\nKeywords: Solaris2.1 xdm\\nOrganization: University of Central Florida\\nDistribution: comp\\nLines: 7\\n\\nI recently read here that Sun has a patch for xdm on\\nSolaris2.1.  I was wondering if anyone could give me the \\npatch number. \\n\\nThanks in advance,\\nTracy Tolley\\nUniversity of Central Florida - Technical Support\\n',\n 'From: dcc@dcs.ed.ac.uk (David Crooke)\\nSubject: Bitplaned (\"non-chunky\" pixel) cfb????\\nOrganization: Department of Computer Science, University of Edinburgh\\nLines: 17\\n\\nIs there a PD version of cfb, or other PD server stuff, which has a colour frame\\nbuffer implementation which works in bitplaned mode, i.e. where the screen\\nmemory is grouped so that \"bit 0 of every pixel is here, bit 1 is there, etc.\"\\n\\nThe only such beast I know if at the moment is the GfxBase server for the\\nCommodore Amiga, and it is commercial. I don\\'t know if they wrote their own cfb,\\nbut I suspect they did.\\n\\nPlease respond by email, as I don\\'t read this group.\\n\\nMany thanks\\nDave\\n-- \\nDavid Crooke, Department of Computer Science, University of Edinburgh\\nJanet dcc@ed.dcs  :  Internet dcc@dcs.ed.ac.uk  :  IP talk dcc@129.215.160.2\\nWork: JCMB Rm 3310, King\\'s Bldgs, W Mains Rd., Edinburgh EH9 3JZ. 031 650 6013\\nHome: 2FL, 39 Woodburn Terr, M\\'side, Edinburgh EH10 4ST. Tel: 031 452 9067\\n',\n \"Subject: Re: FLORIDA SUCKS!\\nFrom: csc2imd@cabell.vcu.edu (Ian M. Derby)\\nExpires: Sat, 1 May 1993 04:00:00 GMT\\nOrganization: Virginia Commonwealth University\\nLines: 8\\n\\n\\nThis talk about the Phillies winning the NL East is scary.  VERY\\nscary!  Don't get me wrong, Im a Phillies fan but as late as last\\nyear they looked helpless.  The funny thing was they did have a lot\\nof injuries in '92 spring training that basically killed their\\nchances.  Of course, don't forget the Dykstra wrist injury in the\\nfirst or second game?  \\n\\n\",\n 'From: dcb@wdl1.wdl.loral.com (David C Blume)\\nSubject: Cannot move data fast enough!?\\nSummary: disk -> buffer -> network card\\nKeywords: NuBus, SCSI, disk, throughput\\nOrganization: Gokuraku Videos\\nLines: 43\\n\\nI want to achieve an overall throughput rate of around 5 megabytes / sec\\nfor very large data transfers.  (Around 5 MB.)\\n\\nI have a Quadra 950. \\nI have a NuBus network card that can pump data in to mac memory at 8.5 MB/s.\\n         (using block-mode transfers)\\nI have a high-speed disk array (no asynchronous PB calls) that can\\n         achieve 6.8 MB/s.\\n\\nLet\\'s say all transfers go from disk to buffer to network card.\\n\\nIt is not enough to first transfer all the data from the disk to buffer,\\nthen transfer all the data from the buffer to card.  (6.8 MB/s then 8.5 MB/s\\nresult in an overall 3.8 MB/s.  Too slow!)\\n\\nSo I tried the following scheme: For an n-megabyte transfer, \\n\\nStep 1:                                Load the 1st MB from disk to buffer.\\nStep 2: Asynch send 1st MB out card,   Load the 2nd MB from disk to buffer.\\nStep 3: Asynch send 2nd MB out card,   Load the 3rd MB from disk to buffer.\\n        ...\\nStep n: Asynch send the n-1 MB out card, Load the nth MB from disk to buffer.\\nStep n+1: Send the nth MB out card.\\n\\nEven though the code apparently does execute the card transfer asynchronously,\\nand the card does not use the Mac cpu at all,  (It is using the buffer, tho\\')\\neach of the steps 2 through n take as long as if the two transfers were\\nexecuted one after another.  So there is no improvement in the rate.\\n\\nWhy?\\n\\nIs the mac RAM dual-port?  (So the NuBus card and the disk driver can both\\naccess data at the same time.)\\nIs the problem that the two devices, card and disk driver, both have to use\\nthe same bus to mac RAM?\\n\\nIs there anything I can do?\\n\\n--David\\n+---------------------------------------------------------------------+\\n| David Blume            | \"I get tired thinking of all the things I  |\\n| dcb@wdl1.wdl.loral.com |  don\\'t want to do.\"  --Bukowski, _Barfly_  |\\n+---------------------------------------------------------------------+\\n',\n \"From: demers@cs.ucsd.edu (David DeMers)\\nSubject: Re: Montreal Question.......\\nOrganization: CSE Dept., UC San Diego\\nLines: 13\\nNntp-Posting-Host: mbongo.ucsd.edu\\n\\n\\nIn article <1993Apr19.015442.15723@oz.plymouth.edu>, k_mullin@oz.plymouth.edu (Mully) writes:\\n|> \\n|>    What position does Mike Lansing play?  I cannot seem to find it \\n|>  anywhere.  Thanks!!!!1\\n\\nHe's a shortstop by training, but he's been at second (mostly) and third\\nthis year for the Expos.\\n-- \\nDave DeMers\\t\\t\\t \\t        demers@cs.ucsd.edu\\nComputer Science & Engineering\\t0114\\t\\tdemers%cs@ucsd.bitnet\\nUC San Diego\\t\\t\\t\\t\\t...!ucsd!cs!demers\\nLa Jolla, CA 92093-0114\\t(619) 534-0688, or -8187, FAX: (619) 534-7029\\n\",\n 'From: steerr@h01.UUCP (R. William Steer)\\nSubject: X-server for NT?\\nOrganization: The Internet\\nLines: 8\\nTo: expo.lcs.mit.edu!xpert@tron.bwi\\n\\nHas anybody generated an X server for Windows NT?  If so, are you willing\\nto share your config file and other tricks necessary to make it work?\\n\\nThanks for any information.\\n\\nBill Steer\\nWestinghouse\\n(412)374-6367\\n',\n ...]"
     },
     "execution_count": 3,
     "metadata": {},
     "output_type": "execute_result"
    }
   ],
   "source": [
    "###set datasets.\n",
    "categorise = ['rec.sport.baseball','sci.space','comp.sys.mac.hardware','comp.windows.x']\n",
    "\n",
    "news20 = fetch_20newsgroups(categories=categorise)\n",
    "news = news20.data\n",
    "\n",
    "news"
   ]
  },
  {
   "cell_type": "code",
   "execution_count": 4,
   "metadata": {},
   "outputs": [
    {
     "data": {
      "text/plain": "['00',\n '000',\n '0005',\n '0062',\n '00mbstultz',\n '01',\n '01wb',\n '02',\n '0200',\n '0223',\n '024222',\n '03',\n '030',\n '033',\n '04',\n '040',\n '0400',\n '05',\n '051',\n '06',\n '07',\n '08',\n '09',\n '0ha',\n '10',\n '100',\n '1000',\n '100m',\n '101',\n '102',\n '1024',\n '1024x768',\n '103',\n '104',\n '105',\n '106',\n '107',\n '108',\n '109',\n '10th',\n '11',\n '110',\n '111',\n '11181',\n '112',\n '113',\n '114',\n '1141',\n '115',\n '117',\n '118',\n '119',\n '11th',\n '12',\n '120',\n '1200',\n '120399',\n '121',\n '122',\n '123',\n '124',\n '125',\n '126',\n '127',\n '128',\n '129',\n '13',\n '130',\n '1304',\n '131',\n '132',\n '133',\n '134',\n '135',\n '136',\n '137',\n '138',\n '139',\n '14',\n '140',\n '1400',\n '141',\n '142',\n '143',\n '1430',\n '144',\n '144750',\n '145',\n '146',\n '14691229',\n '147',\n '148',\n '14853',\n '149',\n '15',\n '150',\n '1500',\n '151',\n '152',\n '153',\n '154',\n '155',\n '156',\n '1568',\n '158',\n '15apr93',\n '15th',\n '16',\n '160',\n '1600',\n '161',\n '162',\n '16330',\n '164',\n '167',\n '168730',\n '16mb',\n '16mhz',\n '17',\n '170',\n '172',\n '174',\n '175',\n '176',\n '177',\n '18',\n '180',\n '18084tm',\n '182',\n '185',\n '186',\n '188',\n '189',\n '19',\n '190',\n '1900',\n '192',\n '194',\n '195',\n '1950',\n '1958',\n '1960',\n '1960s',\n '1961',\n '1962',\n '1963',\n '1964',\n '1965',\n '1968',\n '1969',\n '197',\n '1970',\n '1971',\n '1972',\n '1973',\n '1976',\n '1977',\n '1979',\n '198',\n '1980',\n '1981',\n '1982',\n '1983',\n '1984',\n '1985',\n '1986',\n '1987',\n '1988',\n '1989',\n '199',\n '1990',\n '1991',\n '1992',\n '1993',\n '1993apr1',\n '1993apr12',\n '1993apr13',\n '1993apr14',\n '1993apr15',\n '1993apr16',\n '1993apr17',\n '1993apr18',\n '1993apr19',\n '1993apr2',\n '1993apr20',\n '1993apr21',\n '1993apr22',\n '1993apr23',\n '1993apr25',\n '1993apr26',\n '1993apr3',\n '1993apr5',\n '1993apr6',\n '1993apr7',\n '1993e',\n '1993mar31',\n '1994',\n '1995',\n '1996',\n '1999',\n '19th',\n '1b',\n '1d17',\n '1d20',\n '1g',\n '1m',\n '1mb',\n '1qkkodinn5f5',\n '1st',\n '20',\n '200',\n '2000',\n '2005',\n '201',\n '2010',\n '202',\n '203',\n '205',\n '206',\n '20771',\n '208',\n '209',\n '20th',\n '21',\n '210',\n '211',\n '211638',\n '212',\n '213',\n '214',\n '215',\n '216',\n '217',\n '2178',\n '219',\n '22',\n '220',\n '221',\n '222',\n '223',\n '224',\n '225',\n '227',\n '228',\n '23',\n '230',\n '231',\n '232',\n '233',\n '235',\n '236',\n '237',\n '238',\n '239',\n '24',\n '240',\n '2400',\n '241',\n '243',\n '244',\n '245',\n '246',\n '248',\n '249',\n '24bit',\n '24th',\n '25',\n '250',\n '252',\n '253',\n '254',\n '255',\n '256',\n '256k',\n '257',\n '258',\n '259',\n '25mhz',\n '26',\n '260',\n '262',\n '2630',\n '264',\n '267',\n '268',\n '2697',\n '27',\n '270',\n '272',\n '273',\n '274',\n '275',\n '277',\n '28',\n '280',\n '282',\n '285',\n '286',\n '29',\n '290',\n '292',\n '293',\n '295',\n '296',\n '297',\n '29848',\n '299',\n '2b',\n '2mb',\n '2nd',\n '30',\n '300',\n '3000',\n '300i',\n '301',\n '302',\n '303',\n '30332',\n '304',\n '306',\n '30th',\n '31',\n '310',\n '312',\n '313',\n '314',\n '316',\n '32',\n '320',\n '321',\n '3217',\n '324',\n '325',\n '328',\n '32k',\n '33',\n '333',\n '334',\n '335',\n '336',\n '337523',\n '337548',\n '339',\n '33mhz',\n '34',\n '340',\n '343',\n '348',\n '34deg',\n '35',\n '350',\n '351',\n '3511',\n '353',\n '3539',\n '354',\n '355',\n '3556',\n '35611',\n '359',\n '36',\n '360',\n '3610',\n '364',\n '366',\n '368',\n '3684',\n '369',\n '37',\n '370',\n '374',\n '375',\n '37501',\n '376',\n '377',\n '378',\n '38',\n '380',\n '384',\n '385',\n '386',\n '386bsd',\n '389',\n '39',\n '390',\n '394',\n '3b',\n '3d',\n '3e',\n '3rd',\n '40',\n '400',\n '4000',\n '404',\n '405',\n '407',\n '408',\n '40mb',\n '41',\n '410',\n '411',\n '412',\n '415',\n '416',\n '42',\n '423',\n '424',\n '425',\n '427',\n '43',\n '430',\n '43011',\n '433',\n '435',\n '436',\n '4368',\n '438',\n '44',\n '440',\n '442',\n '444',\n '445',\n '448',\n '45',\n '450',\n '455',\n '457',\n '458',\n '46',\n '460',\n '462',\n '464',\n '4656',\n '469',\n '47',\n '471',\n '475',\n '48',\n '480',\n '4800',\n '483',\n '486',\n '487',\n '49',\n '492',\n '495',\n '497',\n '4fg',\n '4k',\n '4m',\n '4mb',\n '4th',\n '50',\n '500',\n '5000',\n '503',\n '507',\n '508',\n '50mhz',\n '51',\n '510',\n '5111',\n '512',\n '512k',\n '513',\n '515',\n '516',\n '517',\n '519',\n '52',\n '520',\n '522',\n '525',\n '53',\n '530',\n '532',\n '533',\n '534',\n '538',\n '54',\n '542',\n '545',\n '54909',\n '55',\n '550',\n '555',\n '556',\n '56',\n '560',\n '562',\n '57',\n '571',\n '572',\n '575',\n '576',\n '577',\n '58',\n '580',\n '583',\n '586',\n '59',\n '5900',\n '594',\n '5th',\n '60',\n '600',\n '6000',\n '601',\n '602',\n '603',\n '604',\n '605',\n '609',\n '60ns',\n '61',\n '610',\n '612',\n '6128',\n '613',\n '614',\n '615',\n '616',\n '617',\n '619',\n '62',\n '620',\n '621',\n '624',\n '625',\n '629',\n '63',\n '631',\n '632',\n '6347',\n '636',\n '637',\n '64',\n '640',\n '643',\n '646',\n '649',\n '64k',\n '65',\n '650',\n '653',\n '655',\n '656',\n '657',\n '66',\n '664',\n '666',\n '667',\n '66mhz',\n '67',\n '6700',\n '672',\n '675',\n '677',\n '678',\n '68',\n '680',\n '68000',\n '68020',\n '68030',\n '68040',\n '68060',\n '680x0',\n '684',\n '685',\n '68lc040',\n '68rc040',\n '69',\n '692',\n '697',\n '6th',\n '6zv82b2w165w',\n '70',\n '700',\n '7000',\n '70262',\n '703',\n '708',\n '71',\n '713',\n '714',\n '717',\n '719',\n '72',\n '725',\n '728',\n '73',\n '734',\n '74',\n '742',\n '7467',\n '747',\n '748',\n '75',\n '750',\n '752',\n '755',\n '76',\n '768',\n '77',\n '77058',\n '776',\n '778',\n '78',\n '79',\n '7951',\n '7th',\n '80',\n '800',\n '8000',\n '800k',\n '800x600',\n '80307',\n '804',\n '80mb',\n '80ns',\n '81',\n '818',\n '82',\n '8229',\n '8267',\n '83',\n '84',\n '848',\n '85',\n '8500',\n '86',\n '86deg',\n '87',\n '88',\n '8859',\n '89',\n '8bit',\n '8mb',\n '8th',\n '90',\n '900',\n '9000',\n '908',\n '91',\n '91109',\n '919',\n '92',\n '93',\n '93095',\n '93105',\n '94',\n '94305',\n '95',\n '950',\n '95051',\n '957',\n '9591',\n '96',\n '9600',\n '964',\n '97',\n '9760',\n '98',\n '99',\n '998',\n '999',\n '9th',\n '__',\n '___',\n '____',\n '_____',\n '______',\n '__________________________________________________________________________',\n '_______________________________________________________________________________',\n '_get_applicationshellwidgetclass',\n '_get_wmshellwidgetclass',\n '_perijoves_',\n '_the',\n 'aa',\n 'aaa',\n 'aardvark',\n 'aaron',\n 'ab',\n 'abbott',\n 'abilities',\n 'ability',\n 'able',\n 'aboard',\n 'abort',\n 'abpsoft',\n 'abs',\n 'absolute',\n 'absolutely',\n 'abstract',\n 'absurdity',\n 'abuse',\n 'abyss',\n 'ac',\n 'acad',\n 'acad3',\n 'academic',\n 'acc',\n 'accelerated',\n 'acceleration',\n 'accelerator',\n 'accelerators',\n 'accept',\n 'acceptable',\n 'accepted',\n 'access',\n 'accessed',\n 'accessible',\n 'accessing',\n 'accident',\n 'accidentally',\n 'accommodate',\n 'accomplish',\n 'accomplished',\n 'according',\n 'account',\n 'accounting',\n 'accummulate',\n 'accuracy',\n 'accurate',\n 'accurately',\n 'ace',\n 'achieve',\n 'achieved',\n 'achieving',\n 'acker',\n 'acme',\n 'acns',\n 'acquiring',\n 'acquisition',\n 'acs',\n 'acsc',\n 'act',\n 'acting',\n 'action',\n 'actions',\n 'activated',\n 'active',\n 'actively',\n 'activist',\n 'activities',\n 'activity',\n 'acts',\n 'actual',\n 'actually',\n 'ad',\n 'ada',\n 'adam',\n 'adams',\n 'adapt',\n 'adapted',\n 'adapter',\n 'adapters',\n 'adaptor',\n 'adb',\n 'add',\n 'added',\n 'adding',\n 'addison',\n 'addition',\n 'additional',\n 'address',\n 'addressed',\n 'addresses',\n 'addressing',\n 'adds',\n 'adelaide',\n 'adequate',\n 'adj',\n 'adjust',\n 'adjusted',\n 'adjusting',\n 'adjustment',\n 'adjustments',\n 'admin',\n 'administration',\n 'administrative',\n 'administrator',\n 'admiral',\n 'admit',\n 'admitted',\n 'adobe',\n 'adopted',\n 'adrian',\n 'ads',\n 'advance',\n 'advanced',\n 'advances',\n 'advantage',\n 'advantages',\n 'advertised',\n 'advertising',\n 'advice',\n 'advisory',\n 'advocate',\n 'advocated',\n 'ae',\n 'aeon',\n 'aero',\n 'aerobraking',\n 'aeronautics',\n 'aerospace',\n 'af',\n 'affairs',\n 'affect',\n 'affected',\n 'affiliated',\n 'afford',\n 'affordable',\n 'afit',\n 'afraid',\n 'africa',\n 'afternoon',\n 'aftersleep',\n 'agate',\n 'age',\n 'agencies',\n 'agency',\n 'agent',\n 'ages',\n 'aggravation',\n 'agian',\n 'ago',\n 'agree',\n 'agreed',\n 'agreement',\n 'ah',\n 'ahead',\n 'ahold',\n 'ai',\n 'aiaa',\n 'aid',\n 'aided',\n 'aim',\n 'aio',\n 'air',\n 'aircraft',\n 'airliners',\n 'airport',\n 'aix',\n 'aix02',\n 'aka',\n 'al',\n 'alabama',\n 'alamos',\n 'alan',\n 'alas',\n 'alaska',\n 'albeit',\n 'albert',\n 'alberta',\n 'album',\n 'albuquerque',\n 'alex',\n 'alexander',\n 'alf',\n 'algorithm',\n 'algorithms',\n 'alias',\n 'alicea',\n 'alien',\n 'alignment',\n 'alive',\n 'alleg',\n 'alleged',\n 'allegheny',\n 'allen',\n 'allocate',\n 'allocated',\n 'allocating',\n 'allow',\n 'allowed',\n 'allowing',\n 'allows',\n 'almaden',\n 'alomar',\n 'alot',\n 'alpha',\n 'alphacdc',\n 'alright',\n 'als',\n 'alt',\n 'alternate',\n 'alternative',\n 'alternatively',\n 'alternatives',\n 'altitude',\n 'altogether',\n 'aluminum',\n 'amateur',\n 'amazed',\n 'amazing',\n 'ambiguous',\n 'ambitious',\n 'amd',\n 'america',\n 'american',\n 'ames',\n 'amherst',\n 'amiga',\n 'amounts',\n 'amsat',\n 'amsterdam',\n 'analog',\n 'analogy',\n 'analyses',\n 'analysis',\n 'analyst',\n 'ancient',\n 'andersen',\n 'anderson',\n 'andre',\n 'andre_beck',\n 'andrea',\n 'andres',\n 'andresen',\n 'andrew',\n 'andy',\n 'angeles',\n 'angels',\n 'angle',\n 'angles',\n 'animal',\n 'animation',\n 'ann',\n 'announce',\n 'announced',\n 'announcement',\n 'annoyed',\n 'annoying',\n 'annual',\n 'anon',\n 'anonymous',\n 'ansi',\n 'answer',\n 'answered',\n 'answering',\n 'answers',\n 'antenna',\n 'anthony',\n 'anti',\n 'anybody',\n 'anymore',\n 'anytime',\n 'anyways',\n 'aol',\n 'ap',\n 'apart',\n 'api',\n 'apollo',\n 'apologies',\n 'app',\n 'app_context',\n 'apparent',\n 'apparently',\n 'appcontext',\n 'appear',\n 'appearance',\n 'appearances',\n 'appeared',\n 'appearing',\n 'appears',\n 'appended',\n 'apple',\n 'applelink',\n 'apples',\n 'appletalk',\n 'application',\n 'applications',\n 'applied',\n 'applies',\n 'apply',\n 'appreciate',\n 'appreciated',\n 'approach',\n 'approaches',\n 'appropriate',\n 'approximately',\n 'apps',\n 'apr',\n 'april',\n 'aps',\n 'apt',\n 'arbitrary',\n 'arbor',\n 'arbortext',\n 'arc',\n 'archie',\n 'architect',\n 'architecture',\n 'archive',\n 'archived',\n 'archives',\n 'area',\n 'areas',\n 'aren',\n ...]"
     },
     "execution_count": 4,
     "metadata": {},
     "output_type": "execute_result"
    }
   ],
   "source": [
    "###The cell for test Countvectrizer\n",
    "txt_vec = CV(max_df=0.9, min_df=5, stop_words='english')\n",
    "txt_vec_fit = txt_vec.fit(news)\n",
    "txt_vec.get_feature_names()"
   ]
  },
  {
   "cell_type": "code",
   "execution_count": 5,
   "metadata": {},
   "outputs": [
    {
     "data": {
      "text/plain": "7905"
     },
     "execution_count": 5,
     "metadata": {},
     "output_type": "execute_result"
    }
   ],
   "source": [
    "len(txt_vec.get_feature_names())\n"
   ]
  },
  {
   "cell_type": "markdown",
   "metadata": {},
   "source": [
    "----------------------------------------------------------------------\n",
    "こっからいじるよ\n",
    "----------------------------------------------------------------------"
   ]
  },
  {
   "cell_type": "code",
   "execution_count": 14,
   "metadata": {},
   "outputs": [
    {
     "name": "stdout",
     "output_type": "stream",
     "text": "completed\n"
    }
   ],
   "source": [
    "###declear the variable.\n",
    "K = 3#the number of topic\n",
    "alpha = 0.5#hyper parameter for default topic\n",
    "beta = 0.5#hyper parameter for defoult wards\n",
    "print('completed')"
   ]
  },
  {
   "cell_type": "markdown",
   "metadata": {},
   "source": [
    "コーパスの読み込みとカウンタ\n",
    "これはcountvectorierを使う"
   ]
  },
  {
   "cell_type": "code",
   "execution_count": 19,
   "metadata": {},
   "outputs": [],
   "source": [
    "M = len(txt_vec.get_feature_names())\n",
    "#Vもおなじ？\n",
    "\n",
    "z_m_n = []\n",
    "n_m_z = numpy.zeros((M,K)) + alpha\n",
    "n_z_t = numpy.zeros((K,M)) + beta\n",
    "n_z = numpy.zeros(K) + M * beta\n",
    "\n",
    "N=0\n"
   ]
  },
  {
   "cell_type": "code",
   "execution_count": 22,
   "metadata": {},
   "outputs": [
    {
     "ename": "SyntaxError",
     "evalue": "invalid syntax (<ipython-input-22-3cb05316cc1e>, line 1)",
     "output_type": "error",
     "traceback": [
      "\u001b[0;36m  File \u001b[0;32m\"<ipython-input-22-3cb05316cc1e>\"\u001b[0;36m, line \u001b[0;32m1\u001b[0m\n\u001b[0;31m    for m, doc enumerate(docs):\u001b[0m\n\u001b[0m                       ^\u001b[0m\n\u001b[0;31mSyntaxError\u001b[0m\u001b[0;31m:\u001b[0m invalid syntax\n"
     ]
    }
   ],
   "source": [
    "for m, doc enumerate(docs):"
   ]
  },
  {
   "cell_type": "code",
   "execution_count": null,
   "metadata": {},
   "outputs": [],
   "source": []
  },
  {
   "cell_type": "markdown",
   "metadata": {},
   "source": [
    "-----------------------------------------\n",
    "よくわかんないけどここまでいじったよ\n",
    "-----------------------------------------"
   ]
  },
  {
   "cell_type": "code",
   "execution_count": 6,
   "metadata": {},
   "outputs": [
    {
     "data": {
      "text/plain": "LatentDirichletAllocation(batch_size=128, doc_topic_prior=None,\n                          evaluate_every=-1, learning_decay=0.7,\n                          learning_method='online', learning_offset=10.0,\n                          max_doc_update_iter=100, max_iter=10,\n                          mean_change_tol=0.001, n_components=3, n_jobs=None,\n                          perp_tol=0.1, random_state=None,\n                          topic_word_prior=None, total_samples=1000000.0,\n                          verbose=0)"
     },
     "execution_count": 6,
     "metadata": {},
     "output_type": "execute_result"
    }
   ],
   "source": [
    "lda = LDA(n_components=3, learning_method='online')\n",
    "lda.fit(txt_vec_fit.transform(news))"
   ]
  },
  {
   "cell_type": "code",
   "execution_count": 7,
   "metadata": {},
   "outputs": [
    {
     "name": "stdout",
     "output_type": "stream",
     "text": "topic 0\nedu, writes, article, year, com, university, good, don, think, posting, team, nntp, host, baseball, just, game, like, cs, better \n\ntopic 1\nspace, edu, nasa, com, gov, writes, article, launch, like, just, earth, posting, moon, orbit, access, data, nntp, host, lunar \n\ntopic 2\nedu, com, window, use, file, host, posting, mit, nntp, mac, server, like, problem, does, program, apple, know, motif, available \n\n"
    }
   ],
   "source": [
    "features = txt_vec.get_feature_names()\n",
    "\n",
    "\n",
    "#↓ここに書いてることよくわからんチン\n",
    "for tn in range(3):\n",
    "    print(\"topic \"+str(tn))#というかここから下がどうなってるかわからん\n",
    "    row = lda.components_[tn]\n",
    "    words = ', '.join([features[i] for i in row.argsort()[:-20:-1]])\n",
    "    print(words, \"\\n\")"
   ]
  },
  {
   "cell_type": "markdown",
   "metadata": {},
   "source": []
  },
  {
   "cell_type": "code",
   "execution_count": 9,
   "metadata": {},
   "outputs": [],
   "source": [
    "# predict\n",
    "text11=\"an American multinational technology company headquartered in Cupertino, \"+ \\\n",
    "        \"California, that designs, develops, and sells consumer electronics,\"+ \\\n",
    "        \"computer software, and online services.\"\n",
    "\n",
    "text12=\"The company's hardware products include the iPhone smartphone,\"+ \\\n",
    "        \"the iPad tablet computer, the Mac personal computer,\"+ \\\n",
    "        \"the iPod portable media player, the Apple Watch smartwatch,\"+ \\\n",
    "        \"the Apple TV digital media player, and the HomePod smart speaker.\"\n",
    "\n",
    "text13=\"there are nany baseball teams in the world,and a lot of team has students \"+ \\\n",
    "        \"many student and pro sports player is playing by same rule\"+ \\\n",
    "        \"becouse many people can playing baseball,and baseball is enjoyed by many people.\"\n",
    "\n",
    "document_vec=[text11,text12,text13]"
   ]
  },
  {
   "cell_type": "code",
   "execution_count": 10,
   "metadata": {},
   "outputs": [],
   "source": [
    "doc_cv_vec = txt_vec.transform(document_vec)\n",
    "lda_test = lda.transform(doc_cv_vec)"
   ]
  },
  {
   "cell_type": "code",
   "execution_count": 11,
   "metadata": {},
   "outputs": [
    {
     "name": "stdout",
     "output_type": "stream",
     "text": "###  0\nan American multinational technology company headquartered in Cupertino, California, that designs, develops, and sells consumer electronics,computer software, and online services.\n[0.02807884 0.94457812 0.02734304]  >>> topic [1]\n\n###  1\nThe company's hardware products include the iPhone smartphone,the iPad tablet computer, the Mac personal computer,the iPod portable media player, the Apple Watch smartwatch,the Apple TV digital media player, and the HomePod smart speaker.\n[0.02171349 0.73564986 0.24263665]  >>> topic [1]\n\n###  2\nthere are nany baseball teams in the world,and a lot of team has students many student and pro sports player is playing by same rulebecouse many people can playing baseball,and baseball is enjoyed by many people.\n[0.0200292  0.18447222 0.79549858]  >>> topic [2]\n\n"
    }
   ],
   "source": [
    "for i,lda in enumerate(lda_test):\n",
    "    print(\"### \",i)\n",
    "    topicid=[i for i, x in enumerate(lda) if x == max(lda)]\n",
    "    print(document_vec[i])\n",
    "    print(lda,\" >>> topic\",topicid)\n",
    "    print(\"\")"
   ]
  },
  {
   "cell_type": "code",
   "execution_count": null,
   "metadata": {},
   "outputs": [],
   "source": []
  }
 ]
}