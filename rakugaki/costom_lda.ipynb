{
 "nbformat": 4,
 "nbformat_minor": 2,
 "metadata": {
  "language_info": {
   "name": "python",
   "codemirror_mode": {
    "name": "ipython",
    "version": 3
   },
   "version": "3.6.9-final"
  },
  "orig_nbformat": 2,
  "file_extension": ".py",
  "mimetype": "text/x-python",
  "name": "python",
  "npconvert_exporter": "python",
  "pygments_lexer": "ipython3",
  "version": 3,
  "kernelspec": {
   "name": "python36964bit259114d5b7d94317b5c607b68a95749d",
   "display_name": "Python 3.6.9 64-bit"
  }
 },
 "cells": [
  {
   "cell_type": "code",
   "execution_count": 1,
   "metadata": {},
   "outputs": [],
   "source": [
    "from sklearn.datasets import fetch_20newsgroups\n",
    "from sklearn.feature_extraction.text import CountVectorizer as CV\n",
    "import numpy\n",
    "from sklearn.decomposition import LatentDirichletAllocation as LDA"
   ]
  },
  {
   "cell_type": "code",
   "execution_count": 2,
   "metadata": {},
   "outputs": [],
   "source": [
    "categories = ['rec.sport.baseball', 'sci.space', 'comp.sys.mac.hardware', 'comp.windows.x','talk.politics.guns']\n",
    "\n",
    "news20 = fetch_20newsgroups(categories=categories)\n",
    "news = news20.data"
   ]
  },
  {
   "cell_type": "code",
   "execution_count": 3,
   "metadata": {},
   "outputs": [
    {
     "output_type": "execute_result",
     "data": {
      "text/plain": "9766"
     },
     "metadata": {},
     "execution_count": 3
    }
   ],
   "source": [
    "cv = CV(max_df=0.5, min_df=5,stop_words='english')\n",
    "#cv_fit = cv.fit(news)\n",
    "cv_fit_transform = cv.fit_transform(news)\n",
    "len(cv.get_feature_names())"
   ]
  },
  {
   "cell_type": "code",
   "execution_count": 4,
   "metadata": {},
   "outputs": [],
   "source": [
    "lda = LDA(n_components=5,learning_method='online', max_iter=20)\n",
    "\n",
    "lda_fit = lda.fit(cv_fit_transform)\n",
    "\n",
    ""
   ]
  },
  {
   "cell_type": "code",
   "execution_count": 5,
   "metadata": {},
   "outputs": [
    {
     "output_type": "stream",
     "name": "stdout",
     "text": "topic 0\ngun,com,people,don,guns,like,writes,article,think,right,control,weapons,firearms,government,law,just,state,know,time \n\ntopic 1\nwrites,article,com,year,think,university,just,don,nntp,host,good,like,game,baseball,team,time,know,games,day \n\ntopic 2\nspace,nasa,com,article,writes,mac,gov,nntp,host,apple,university,like,just,know,new,does,data,access,ca \n\ntopic 3\nfile,com,window,use,mit,program,server,motif,entry,output,available,widget,information,using,set,code,application,version,windows \n\ntopic 4\ncs,com,hp,host,writes,university,nntp,article,duke,alomar,ca,thanks,10,12,distribution,800,13,netcom,nl \n\n"
    }
   ],
   "source": [
    "features = cv.get_feature_names()\n",
    "\n",
    "\n",
    "for topic in range(5):\n",
    "    print(\"topic\", topic)\n",
    "    number_of_topic = lda.components_[topic] \n",
    "    word = ','.join(features[i] for i in number_of_topic.argsort()[:-20:-1])\n",
    "    print(word, \"\\n\")"
   ]
  },
  {
   "cell_type": "code",
   "execution_count": 9,
   "metadata": {},
   "outputs": [],
   "source": [
    "text11=\"an American multinational technology company headquartered in Cupertino, \"+ \\\n",
    "        \"California, that designs, develops, and sells consumer electronics,\"+ \\\n",
    "        \"computer software, and online services.\"\n",
    "\n",
    "text12=\"The company's hardware products include the iPhone smartphone,\"+ \\\n",
    "        \"the iPad tablet computer, the Mac personal computer,\"+ \\\n",
    "        \"the iPod portable media player, the Apple Watch smartwatch,\"+ \\\n",
    "        \"the Apple TV digital media player, and the HomePod smart speaker.\"\n",
    "\n",
    "text13=\"there are nany baseball teams in the world,and a lot of team has students \"+ \\\n",
    "        \"many student and pro sports player is playing by same rule\"+ \\\n",
    "        \"becouse many people can playing baseball,and baseball is enjoyed by many people.\"\n",
    "\n",
    "test1=[text11, text12, text13]"
   ]
  },
  {
   "cell_type": "code",
   "execution_count": 10,
   "metadata": {},
   "outputs": [
    {
     "output_type": "error",
     "ename": "AttributeError",
     "evalue": "'numpy.ndarray' object has no attribute 'transform'",
     "traceback": [
      "\u001b[0;31m---------------------------------------------------------------------------\u001b[0m",
      "\u001b[0;31mAttributeError\u001b[0m                            Traceback (most recent call last)",
      "\u001b[0;32m<ipython-input-10-4dda3c9e47c5>\u001b[0m in \u001b[0;36m<module>\u001b[0;34m\u001b[0m\n\u001b[1;32m      1\u001b[0m \u001b[0mX_test1\u001b[0m \u001b[0;34m=\u001b[0m \u001b[0mcv\u001b[0m\u001b[0;34m.\u001b[0m\u001b[0mtransform\u001b[0m\u001b[0;34m(\u001b[0m\u001b[0mtest1\u001b[0m\u001b[0;34m)\u001b[0m\u001b[0;34m\u001b[0m\u001b[0;34m\u001b[0m\u001b[0m\n\u001b[0;32m----> 2\u001b[0;31m \u001b[0mlda_test1\u001b[0m \u001b[0;34m=\u001b[0m \u001b[0mlda\u001b[0m\u001b[0;34m.\u001b[0m\u001b[0mtransform\u001b[0m\u001b[0;34m(\u001b[0m\u001b[0mX_test1\u001b[0m\u001b[0;34m)\u001b[0m\u001b[0;34m\u001b[0m\u001b[0;34m\u001b[0m\u001b[0m\n\u001b[0m",
      "\u001b[0;31mAttributeError\u001b[0m: 'numpy.ndarray' object has no attribute 'transform'"
     ]
    }
   ],
   "source": [
    "X_test1 = cv.transform(test1)\n",
    "lda_test1 = lda.transform(X_test1)"
   ]
  },
  {
   "cell_type": "code",
   "execution_count": 11,
   "metadata": {},
   "outputs": [
    {
     "output_type": "stream",
     "name": "stdout",
     "text": "###  0\nan American multinational technology company headquartered in Cupertino, California, that designs, develops, and sells consumer electronics,computer software, and online services.\nScore\n [0.00969892 0.34563551 0.62517205 0.00981236 0.00968116]\n >>> topic [2]\n\n###  1\nThe company's hardware products include the iPhone smartphone,the iPad tablet computer, the Mac personal computer,the iPod portable media player, the Apple Watch smartwatch,the Apple TV digital media player, and the HomePod smart speaker.\nScore\n [0.11759174 0.84680241 0.01197739 0.01179039 0.01183807]\n >>> topic [1]\n\n"
    }
   ],
   "source": [
    "for i,lda in enumerate(lda_test1):\n",
    "    print(\"### \",i)\n",
    "    topicid=[i for i, x in enumerate(lda) if x == max(lda)]\n",
    "    print(test1[i])\n",
    "    print(\"Score\\n\", lda)\n",
    "    print(\" >>> topic\",topicid)\n",
    "    print(\"\")"
   ]
  },
  {
   "cell_type": "code",
   "execution_count": 10,
   "metadata": {},
   "outputs": [],
   "source": [
    "from sklearn.feature_extraction.text import TfidfVectorizer as TF"
   ]
  },
  {
   "cell_type": "code",
   "execution_count": 12,
   "metadata": {},
   "outputs": [
    {
     "output_type": "execute_result",
     "data": {
      "text/plain": "9766"
     },
     "metadata": {},
     "execution_count": 12
    }
   ],
   "source": [
    "cv = TF(max_df=0.5, min_df=5,stop_words='english')\n",
    "#cv_fit = cv.fit(news)\n",
    "cv_fit_transform = cv.fit_transform(news)\n",
    "len(cv.get_feature_names())"
   ]
  },
  {
   "cell_type": "code",
   "execution_count": 13,
   "metadata": {},
   "outputs": [],
   "source": [
    "lda = LDA(n_components=5,learning_method='online', max_iter=20)\n",
    "\n",
    "lda_fit = lda.fit(cv_fit_transform)\n",
    "\n",
    ""
   ]
  },
  {
   "cell_type": "code",
   "execution_count": 14,
   "metadata": {},
   "outputs": [
    {
     "output_type": "stream",
     "name": "stdout",
     "text": "topic 0\nbmug,pyron,skndiv,214,492,4656,padi,lewisville,3556,54909,462,dm,hood,robin,gestures,pr,contribution,sits,suggesting \n\ntopic 1\ncom,window,university,host,nntp,article,mac,thanks,writes,know,mit,like,cs,apple,does,problem,ca,just,use \n\ntopic 2\ngene,mahan,raider,tgv,theporch,lazarus,wright,nashville,macinteresteds,washer,notebooks,unnecessarily,waking,615,crime,7951,297,continuin,capitalist \n\ntopic 3\nfeustel,dresden,inf,georgia,topaz,steinly,prism,tu,beck,andre,gt0523e,mule,andre_beck,irs,irzr17,elin,gatech,scicom,alphacdc \n\ntopic 4\nspace,com,gun,nasa,people,writes,article,don,like,gov,guns,henry,just,access,think,government,alaska,moon,digex \n\n"
    }
   ],
   "source": [
    "features = cv.get_feature_names()\n",
    "\n",
    "\n",
    "for topic in range(5):\n",
    "    print(\"topic\", topic)\n",
    "    number_of_topic = lda.components_[topic] \n",
    "    word = ','.join(features[i] for i in number_of_topic.argsort()[:-20:-1])\n",
    "    print(word, \"\\n\")"
   ]
  },
  {
   "cell_type": "code",
   "execution_count": 22,
   "metadata": {},
   "outputs": [],
   "source": [
    "text11=\"an American multinational technology company headquartered in Cupertino, \"+ \\\n",
    "        \"California, that designs, develops, and sells consumer electronics,\"+ \\\n",
    "        \"computer software, and online services.\"\n",
    "\n",
    "text12=\"The company's hardware products include the iPhone smartphone,\"+ \\\n",
    "        \"the iPad tablet computer, the Mac personal computer,\"+ \\\n",
    "        \"the iPod portable media player, the Apple Watch smartwatch,\"+ \\\n",
    "        \"the Apple TV digital media player, and the HomePod smart speaker.\"\n",
    "\n",
    "text13=\"there are nany baseball teams in the world,and a lot of team has students \"+ \\\n",
    "        \"many student and pro sports player is playing by same rule\"+ \\\n",
    "        \"becouse many people can playing baseball,and baseball is enjoyed by many people.\"\n",
    "\n",
    "test1=[text11, text12, text13]"
   ]
  },
  {
   "cell_type": "code",
   "execution_count": 23,
   "metadata": {},
   "outputs": [
    {
     "output_type": "error",
     "ename": "AttributeError",
     "evalue": "'numpy.ndarray' object has no attribute 'transform'",
     "traceback": [
      "\u001b[0;31m---------------------------------------------------------------------------\u001b[0m",
      "\u001b[0;31mAttributeError\u001b[0m                            Traceback (most recent call last)",
      "\u001b[0;32m<ipython-input-23-4dda3c9e47c5>\u001b[0m in \u001b[0;36m<module>\u001b[0;34m\u001b[0m\n\u001b[1;32m      1\u001b[0m \u001b[0mX_test1\u001b[0m \u001b[0;34m=\u001b[0m \u001b[0mcv\u001b[0m\u001b[0;34m.\u001b[0m\u001b[0mtransform\u001b[0m\u001b[0;34m(\u001b[0m\u001b[0mtest1\u001b[0m\u001b[0;34m)\u001b[0m\u001b[0;34m\u001b[0m\u001b[0;34m\u001b[0m\u001b[0m\n\u001b[0;32m----> 2\u001b[0;31m \u001b[0mlda_test1\u001b[0m \u001b[0;34m=\u001b[0m \u001b[0mlda\u001b[0m\u001b[0;34m.\u001b[0m\u001b[0mtransform\u001b[0m\u001b[0;34m(\u001b[0m\u001b[0mX_test1\u001b[0m\u001b[0;34m)\u001b[0m\u001b[0;34m\u001b[0m\u001b[0;34m\u001b[0m\u001b[0m\n\u001b[0m",
      "\u001b[0;31mAttributeError\u001b[0m: 'numpy.ndarray' object has no attribute 'transform'"
     ]
    }
   ],
   "source": [
    "X_test1 = cv.transform(test1)\n",
    "lda_test1 = lda.transform(X_test1)"
   ]
  },
  {
   "cell_type": "code",
   "execution_count": 21,
   "metadata": {},
   "outputs": [
    {
     "output_type": "stream",
     "name": "stdout",
     "text": "###  0\nThe company's hardware products include the iPhone smartphone,the iPad tablet computer, the Mac personal computer,the iPod portable media player, the Apple Watch smartwatch,the Apple TV digital media player, and the HomePod smart speaker.\n\nScore\n [0.04130307 0.83354172 0.04130304 0.04130237 0.0425498 ]\n >>> topic [1]\n\n###  1\nthere are nany baseball teams in the world,and a lot of team has students many student and pro sports player is playing by same rulebecouse many people can playing baseball,and baseball is enjoyed by many people.\n\nScore\n [0.04764177 0.80815146 0.04764164 0.04764104 0.04892409]\n >>> topic [1]\n\n"
    }
   ],
   "source": [
    "for i,lda in enumerate(lda_test1):\n",
    "    print(\"### \",i)\n",
    "    topicid=[i for i, x in enumerate(lda) if x == max(lda)]\n",
    "    print(test1[i])\n",
    "    print(\"\\nScore\\n\", lda)\n",
    "    print(\" >>> topic\",topicid)\n",
    "    print(\"\")"
   ]
  },
  {
   "cell_type": "code",
   "execution_count": null,
   "metadata": {},
   "outputs": [],
   "source": []
  }
 ]
}