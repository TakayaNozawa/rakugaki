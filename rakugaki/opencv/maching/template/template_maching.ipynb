{
 "nbformat": 4,
 "nbformat_minor": 2,
 "metadata": {
  "language_info": {
   "name": "python",
   "codemirror_mode": {
    "name": "ipython",
    "version": 3
   },
   "version": "3.6.9-final"
  },
  "orig_nbformat": 2,
  "file_extension": ".py",
  "mimetype": "text/x-python",
  "name": "python",
  "npconvert_exporter": "python",
  "pygments_lexer": "ipython3",
  "version": 3,
  "kernelspec": {
   "name": "python36964bit259114d5b7d94317b5c607b68a95749d",
   "display_name": "Python 3.6.9 64-bit"
  }
 },
 "cells": [
  {
   "cell_type": "code",
   "execution_count": 53,
   "metadata": {},
   "outputs": [],
   "source": [
    "import cv2\n",
    "import numpy as np\n",
    "from matplotlib import pyplot as plt"
   ]
  },
  {
   "cell_type": "code",
   "execution_count": 54,
   "metadata": {},
   "outputs": [],
   "source": [
    "img = cv2.imread('group_photo.jpg')\n",
    "temp = cv2.imread('my_face.jpg')"
   ]
  },
  {
   "cell_type": "code",
   "execution_count": 55,
   "metadata": {},
   "outputs": [],
   "source": [
    "gray = cv2.cvtColor(img, cv2.COLOR_RGB2GRAY)\n",
    "temp = cv2.cvtColor(temp, cv2.COLOR_RGB2GRAY)"
   ]
  },
  {
   "cell_type": "code",
   "execution_count": 56,
   "metadata": {},
   "outputs": [],
   "source": [
    "h, w = temp.shape"
   ]
  },
  {
   "cell_type": "code",
   "execution_count": 57,
   "metadata": {},
   "outputs": [],
   "source": [
    "match = cv2.matchTemplate(gray, temp, cv2.TM_SQDIFF_NORMED)"
   ]
  },
  {
   "cell_type": "code",
   "execution_count": 58,
   "metadata": {},
   "outputs": [],
   "source": [
    "min_value, max_value, min_pt, max_pt = cv2.minMaxLoc(match)\n",
    "pt = min_pt"
   ]
  },
  {
   "cell_type": "code",
   "execution_count": 59,
   "metadata": {},
   "outputs": [
    {
     "output_type": "execute_result",
     "data": {
      "text/plain": "array([[[250, 240, 223],\n        [250, 240, 223],\n        [250, 240, 223],\n        ...,\n        [103,  93,  75],\n        [114, 104,  86],\n        [118, 108,  90]],\n\n       [[250, 240, 223],\n        [250, 240, 223],\n        [250, 240, 223],\n        ...,\n        [103,  93,  75],\n        [116, 106,  88],\n        [123, 113,  95]],\n\n       [[250, 240, 223],\n        [250, 240, 223],\n        [250, 240, 223],\n        ...,\n        [ 97,  87,  69],\n        [114, 104,  86],\n        [123, 113,  95]],\n\n       ...,\n\n       [[ 97,  82,  73],\n        [ 99,  84,  75],\n        [101,  86,  77],\n        ...,\n        [ 92, 148,  36],\n        [ 87, 143,  31],\n        [ 81, 137,  25]],\n\n       [[ 98,  83,  74],\n        [ 99,  84,  75],\n        [101,  86,  77],\n        ...,\n        [ 90, 146,  34],\n        [ 86, 142,  30],\n        [ 83, 139,  27]],\n\n       [[ 98,  83,  74],\n        [100,  85,  76],\n        [100,  85,  76],\n        ...,\n        [ 88, 144,  32],\n        [ 86, 142,  30],\n        [ 84, 140,  28]]], dtype=uint8)"
     },
     "metadata": {},
     "execution_count": 59
    }
   ],
   "source": [
    "cv2.rectangle(img, (pt[0], pt[1]), (pt[0] + w, pt[1] + h), (0, 0, 200), 3)"
   ]
  },
  {
   "cell_type": "code",
   "execution_count": 60,
   "metadata": {},
   "outputs": [
    {
     "output_type": "error",
     "ename": "TypeError",
     "evalue": "Required argument 'img' (pos 2) not found",
     "traceback": [
      "\u001b[0;31m---------------------------------------------------------------------------\u001b[0m",
      "\u001b[0;31mTypeError\u001b[0m                                 Traceback (most recent call last)",
      "\u001b[0;32m<ipython-input-60-65bcec9baa48>\u001b[0m in \u001b[0;36m<module>\u001b[0;34m\u001b[0m\n\u001b[0;32m----> 1\u001b[0;31m \u001b[0mcv2\u001b[0m\u001b[0;34m.\u001b[0m\u001b[0mimwrite\u001b[0m\u001b[0;34m(\u001b[0m\u001b[0mimg\u001b[0m\u001b[0;34m)\u001b[0m\u001b[0;34m\u001b[0m\u001b[0;34m\u001b[0m\u001b[0m\n\u001b[0m",
      "\u001b[0;31mTypeError\u001b[0m: Required argument 'img' (pos 2) not found"
     ]
    }
   ],
   "source": [
    "cv2.imwrite(img)"
   ]
  },
  {
   "cell_type": "code",
   "execution_count": null,
   "metadata": {},
   "outputs": [],
   "source": []
  }
 ]
}