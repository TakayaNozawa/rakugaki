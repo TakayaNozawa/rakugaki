{
 "nbformat": 4,
 "nbformat_minor": 2,
 "metadata": {
  "language_info": {
   "name": "python",
   "codemirror_mode": {
    "name": "ipython",
    "version": 3
   },
   "version": "3.6.9-final"
  },
  "orig_nbformat": 2,
  "file_extension": ".py",
  "mimetype": "text/x-python",
  "name": "python",
  "npconvert_exporter": "python",
  "pygments_lexer": "ipython3",
  "version": 3,
  "kernelspec": {
   "name": "python36964bit259114d5b7d94317b5c607b68a95749d",
   "display_name": "Python 3.6.9 64-bit"
  }
 },
 "cells": [
  {
   "cell_type": "code",
   "execution_count": 1,
   "metadata": {},
   "outputs": [],
   "source": [
    "import MeCab"
   ]
  },
  {
   "cell_type": "code",
   "execution_count": 3,
   "metadata": {},
   "outputs": [],
   "source": [
    "wakati = MeCab.Tagger(\"-Owakati\")"
   ]
  },
  {
   "cell_type": "code",
   "execution_count": 4,
   "metadata": {},
   "outputs": [],
   "source": [
    "words = wakati.parse(\"夜にありて迷わず。血に塗れて酔わず。名誉ある協会の狩人よ、獣は呪い、呪いは軛。そして君たちは教会の剣とならん\")"
   ]
  },
  {
   "cell_type": "code",
   "execution_count": 5,
   "metadata": {},
   "outputs": [
    {
     "output_type": "stream",
     "name": "stdout",
     "text": "夜 に あり て 迷わ ず 。 血 に 塗れ て 酔わ ず 。 名誉 ある 協会 の 狩人 よ 、 獣 は 呪い 、 呪い は 軛 。 そして 君たち は 教会 の 剣 と なら ん \n\n"
    }
   ],
   "source": [
    "print(words)"
   ]
  },
  {
   "cell_type": "code",
   "execution_count": null,
   "metadata": {},
   "outputs": [],
   "source": [
    "words = wakati.parse(\"\")"
   ]
  },
  {
   "cell_type": "code",
   "execution_count": 1,
   "metadata": {},
   "outputs": [],
   "source": [
    "from sklearn.feature_extraction.text import CountVectorizer as CV"
   ]
  },
  {
   "cell_type": "code",
   "execution_count": 2,
   "metadata": {},
   "outputs": [],
   "source": [
    "from sklearn.decomposition import LatentDirichletAllocation as LDA\n",
    "import numpy as np"
   ]
  },
  {
   "cell_type": "code",
   "execution_count": 3,
   "metadata": {},
   "outputs": [],
   "source": [
    "dataset = []"
   ]
  },
  {
   "cell_type": "code",
   "execution_count": 4,
   "metadata": {
    "tags": [
     "outputPrepend"
    ]
   },
   "outputs": [],
   "source": [
    "with open('Hasire_merosu.txt', 'r', encoding='UTF-8') as f:\n",
    "    s = f.read()\n",
    "    dataset.append(s)"
   ]
  },
  {
   "cell_type": "code",
   "execution_count": 5,
   "metadata": {},
   "outputs": [],
   "source": [
    "with open('ginga_tetudou_no_yoru.txt', 'r', encoding='UTF-8') as f:\n",
    "    t = f.read()\n",
    "    dataset.append(t)"
   ]
  },
  {
   "cell_type": "code",
   "execution_count": 22,
   "metadata": {},
   "outputs": [],
   "source": [
    "with open('rasyoumon.txt', 'r', encoding='UTF-8') as f:\n",
    "    u = f.read()\n",
    "    dataset.append(u)"
   ]
  },
  {
   "cell_type": "code",
   "execution_count": 6,
   "metadata": {},
   "outputs": [],
   "source": [
    "txt_vec = CV()\n",
    "txt_vec_fit = txt_vec.fit(dataset)\n",
    "txt_vec_fit_transform = txt_vec_fit.transform(dataset)"
   ]
  },
  {
   "cell_type": "code",
   "execution_count": 7,
   "metadata": {},
   "outputs": [
    {
     "output_type": "execute_result",
     "data": {
      "text/plain": "3090"
     },
     "metadata": {},
     "execution_count": 7
    }
   ],
   "source": [
    "len_word = len(txt_vec.get_feature_names())\n",
    "term_frequency = np.array(txt_vec_fit_transform.sum(axis=0))[0]\n",
    "len_word"
   ]
  },
  {
   "cell_type": "code",
   "execution_count": 8,
   "metadata": {},
   "outputs": [
    {
     "output_type": "stream",
     "name": "stdout",
     "text": "459 \t まし\n222 \t よう\n198 \t から\n189 \t ジョバンニ\n177 \t その\n170 \t です\n141 \t いる\n126 \t ない\n111 \t でし\n102 \t もう\n101 \t カムパネルラ\n91 \t なっ\n88 \t そう\n78 \t ながら\n77 \t 云い\n76 \t メロス\n69 \t それ\n68 \t たち\n61 \t ます\n60 \t たり\n60 \t また\n59 \t ぼく\n57 \t ああ\n54 \t みんな\n50 \t いま\n50 \t ある\n48 \t あの\n47 \t この\n46 \t こと\n45 \t ほんとう\n45 \t けれども\n43 \t まで\n43 \t 立っ\n43 \t という\n43 \t どこ\n42 \t もの\n41 \t 見え\n41 \t そして\n41 \t なら\n41 \t ませ\n39 \t 汽車\n38 \t 行っ\n38 \t 小さな\n38 \t いい\n37 \t とき\n36 \t だろ\n36 \t まるで\n36 \t ねえ\n35 \t 行く\n35 \t する\n34 \t 大きな\n32 \t なり\n32 \t すぐ\n32 \t たら\n31 \t そら\n31 \t たくさん\n30 \t なかっ\n30 \t 少し\n30 \t でも\n30 \t ここ\n29 \t 行き\n29 \t 向う\n28 \t 青年\n28 \t ぼんやり\n27 \t そこ\n27 \t 黒い\n27 \t なく\n27 \t さっき\n27 \t だんだん\n27 \t られ\n27 \t あり\n27 \t 白い\n27 \t いろ\n27 \t こっち\n26 \t ばかり\n26 \t いっぱい\n25 \t 野原\n25 \t あっ\n25 \t 女の子\n24 \t 銀河\n24 \t おまえ\n23 \t 来る\n23 \t 出し\n23 \t 天の川\n23 \t お父さん\n23 \t くれ\n23 \t 一つ\n23 \t 走っ\n22 \t 思い\n22 \t きれい\n22 \t 流れ\n22 \t って\n21 \t 捕り\n21 \t すると\n21 \t じゃ\n21 \t 見える\n21 \t あかり\n21 \t しまい\n20 \t とこ\n"
    }
   ],
   "source": [
    "for count in term_frequency.argsort()[:-100:-1]:\n",
    "    print(term_frequency[count], \"\\t\", txt_vec.get_feature_names()[count])"
   ]
  },
  {
   "cell_type": "code",
   "execution_count": 18,
   "metadata": {},
   "outputs": [],
   "source": [
    "lda = LDA(n_components=2,learning_method='online', max_iter=20)\n",
    "\n",
    "lda_fit = lda.fit(txt_vec_fit_transform)"
   ]
  },
  {
   "cell_type": "code",
   "execution_count": 19,
   "metadata": {},
   "outputs": [
    {
     "output_type": "stream",
     "name": "stdout",
     "text": "topic 0\nまし,よう,ジョバンニ,から,です,その,でし,いる,ない,カムパネルラ,もう,そう,云い,なっ,ながら,たり,ぼく,それ,たち,また,みんな,ます,ほんとう,どこ,立っ,ああ,そして,けれども,見え,こと,汽車,あの,ませ,小さな,いま,という,行っ,ねえ,まるで,とき,この,もの,大きな,ある,まで,行く,そら,だろ,たくさん \n\ntopic 1\nメロス,いる,から,ない,その,おまえ,無い,ある,なら,くれ,なっ,ああ,セリヌンティウス,よう,ます,この,いま,まで,それ,いい,あっ,信じ,出来,たち,もの,あの,ここ,でも,走っ,られ,たい,走る,です,もう,なかっ,それから,帰っ,れる,ながら,すぐ,たら,下さい,わし,殺し,こと,どう,なけれ,殺さ,群衆 \n\n"
    }
   ],
   "source": [
    "features = txt_vec.get_feature_names()\n",
    "\n",
    "\n",
    "for topic in range(2):\n",
    "    print(\"topic\", topic)\n",
    "    number_of_topic = lda.components_[topic] \n",
    "    word = ','.join(features[i] for i in number_of_topic.argsort()[:-50:-1])\n",
    "    print(word, \"\\n\")"
   ]
  },
  {
   "cell_type": "code",
   "execution_count": 13,
   "metadata": {},
   "outputs": [],
   "source": [
    "text11=\"その まん中 に 円い 黒い 星座 早見 が 青い アスパラガス の 葉 で 飾っ て あり まし た 。 　 ジョバンニ は われ を 忘れ て 、 その 星座 の 図 に 見入り まし た 。 　 それ は ひる 学校 で 見 た あの 図 より はず うっ と 小さかっ た の です が その 日 と 時間 に 合せ て 盤 を まわす と 、 その とき 出 て いる そ ら が そのまま 楕円 形 だ え ん けい の なか に めぐっ て あらわれる よう に なっ て 居 おり やはり その まん中 に は 上 から 下 へ かけ て 銀河 が ぼう と けむっ た よう な 帯 に なっ て その 下 の 方 で は かすか に 爆発 ばく はつ し て 湯気 で も あげ て いる よう に 見える の でし た 。 また その うし ろ に は 三 本 の 脚 あし の つい た 小さな 望遠鏡 が 黄いろ に 光っ て 立っ て い まし た し いちばん うし ろ の 壁 か べ に は 空 じゅう の 星座 を ふしぎ な 獣 け もの や 蛇 へび や 魚 や 瓶 びん の 形 に 書い た 大きな 図 が かかっ て い まし た 。 ほんとう に こんな よう な 蝎 さそり だの 勇士 だの そら に ぎっしり 居る だろ う か 、 ああ ぼく は その 中 を どこ まで も 歩い て 見 たい と 思っ て たり し て しばらく ぼんやり 立っ て 居 まし た 。 　 それから 俄 にわかに お母さん の 牛乳 の こと を 思いだし て ジョバンニ は その 店 を はなれ まし た 。 そして きゅう くつ な 上着 の 肩 かた を 気 に し ながら それでも わざと 胸 を 張っ て 大きく 手 を 振っ て 町 を 通っ て 行き まし た 。 　 空気 は 澄 すみきっ て 、 まるで 水 の よう に 通り や 店 の 中 を 流れ まし た し 、 街 燈 は みな まっ青 な もみ や 楢 なら の 枝 で 包ま れ 、 電気 会社 の 前 の 六 本 の プラタヌス の 木 など は 、 中 に 沢山 たくさん の 豆 電 燈 が つい て 、 ほんとう に そこら は 人魚 の 都 の よう に 見える の でし た 。 子ども ら は 、 みんな 新 らしい 折 の つい た 着物 を 着 て 、 星 めぐり の 口笛 くち ぶ え を 吹 ふい たり 、 「 ケンタウルス 、 露 つゆ を ふらせ 。 」 と 叫ん で 走っ たり 、 青い マグネシヤ の 花火 を 燃し たり し て 、 たのし そう に 遊ん で いる の でし た 。 けれども ジョバンニ は 、 いつか また 深く 首 を 垂れ て 、 そこら のに ぎやかさとはまるでちがったことを 考え ながら 、 牛乳 屋 の 方 へ 急ぐ の でし た 。\"\n",
    "\n",
    "text12=\"きょう は 、 六 人 殺さ れ まし た 。 」 　 聞い て 、 メロス は 激怒 し た 。 「 呆 あきれ た 王 だ 。 生かし て 置け ぬ 。 」 　 メロス は 、 単純 な 男 で あっ た 。 買い物 を 、 背負っ た まま で 、 のそのそ 王城 に は いっ て 行っ た 。 たちまち 彼 は 、 巡邏 じゅんら の 警吏 に 捕縛 さ れ た 。\"\n",
    "\n",
    "test1=[text11, text12]"
   ]
  },
  {
   "cell_type": "code",
   "execution_count": 14,
   "metadata": {},
   "outputs": [],
   "source": [
    "X_test1 = txt_vec.transform(test1)\n",
    "lda_test1 = lda.transform(X_test1)"
   ]
  },
  {
   "cell_type": "code",
   "execution_count": 15,
   "metadata": {},
   "outputs": [
    {
     "output_type": "stream",
     "name": "stdout",
     "text": "###  0\nその まん中 に 円い 黒い 星座 早見 が 青い アスパラガス の 葉 で 飾っ て あり まし た 。 　 ジョバンニ は われ を 忘れ て 、 その 星座 の 図 に 見入り まし た 。 　 それ は ひる 学校 で 見 た あの 図 より はず うっ と 小さかっ た の です が その 日 と 時間 に 合せ て 盤 を まわす と 、 その とき 出 て いる そ ら が そのまま 楕円 形 だ え ん けい の なか に めぐっ て あらわれる よう に なっ て 居 おり やはり その まん中 に は 上 から 下 へ かけ て 銀河 が ぼう と けむっ た よう な 帯 に なっ て その 下 の 方 で は かすか に 爆発 ばく はつ し て 湯気 で も あげ て いる よう に 見える の でし た 。 また その うし ろ に は 三 本 の 脚 あし の つい た 小さな 望遠鏡 が 黄いろ に 光っ て 立っ て い まし た し いちばん うし ろ の 壁 か べ に は 空 じゅう の 星座 を ふしぎ な 獣 け もの や 蛇 へび や 魚 や 瓶 びん の 形 に 書い た 大きな 図 が かかっ て い まし た 。 ほんとう に こんな よう な 蝎 さそり だの 勇士 だの そら に ぎっしり 居る だろ う か 、 ああ ぼく は その 中 を どこ まで も 歩い て 見 たい と 思っ て たり し て しばらく ぼんやり 立っ て 居 まし た 。 　 それから 俄 にわかに お母さん の 牛乳 の こと を 思いだし て ジョバンニ は その 店 を はなれ まし た 。 そして きゅう くつ な 上着 の 肩 かた を 気 に し ながら それでも わざと 胸 を 張っ て 大きく 手 を 振っ て 町 を 通っ て 行き まし た 。 　 空気 は 澄 すみきっ て 、 まるで 水 の よう に 通り や 店 の 中 を 流れ まし た し 、 街 燈 は みな まっ青 な もみ や 楢 なら の 枝 で 包ま れ 、 電気 会社 の 前 の 六 本 の プラタヌス の 木 など は 、 中 に 沢山 たくさん の 豆 電 燈 が つい て 、 ほんとう に そこら は 人魚 の 都 の よう に 見える の でし た 。 子ども ら は 、 みんな 新 らしい 折 の つい た 着物 を 着 て 、 星 めぐり の 口笛 くち ぶ え を 吹 ふい たり 、 「 ケンタウルス 、 露 つゆ を ふらせ 。 」 と 叫ん で 走っ たり 、 青い マグネシヤ の 花火 を 燃し たり し て 、 たのし そう に 遊ん で いる の でし た 。 けれども ジョバンニ は 、 いつか また 深く 首 を 垂れ て 、 そこら のに ぎやかさとはまるでちがったことを 考え ながら 、 牛乳 屋 の 方 へ 急ぐ の でし た 。\n\nScore\n [0.99719538 0.00280462]\n >>> topic [0]\n\n###  1\nきょう は 、 六 人 殺さ れ まし た 。 」 　 聞い て 、 メロス は 激怒 し た 。 「 呆 あきれ た 王 だ 。 生かし て 置け ぬ 。 」 　 メロス は 、 単純 な 男 で あっ た 。 買い物 を 、 背負っ た まま で 、 のそのそ 王城 に は いっ て 行っ た 。 たちまち 彼 は 、 巡邏 じゅんら の 警吏 に 捕縛 さ れ た 。\n\nScore\n [0.9707721 0.0292279]\n >>> topic [0]\n\n"
    }
   ],
   "source": [
    "for i,lda in enumerate(lda_test1):\n",
    "    print(\"### \",i)\n",
    "    topicid=[i for i, x in enumerate(lda) if x == max(lda)]\n",
    "    print(test1[i])\n",
    "    print(\"\\nScore\\n\", lda)\n",
    "    print(\" >>> topic\",topicid)\n",
    "    print(\"\")"
   ]
  },
  {
   "cell_type": "code",
   "execution_count": null,
   "metadata": {},
   "outputs": [],
   "source": []
  },
  {
   "cell_type": "code",
   "execution_count": null,
   "metadata": {},
   "outputs": [],
   "source": []
  },
  {
   "cell_type": "code",
   "execution_count": 18,
   "metadata": {},
   "outputs": [],
   "source": [
    "from sklearn.feature_extraction.text import TfidfVectorizer as TV"
   ]
  },
  {
   "cell_type": "code",
   "execution_count": 19,
   "metadata": {},
   "outputs": [],
   "source": [
    "txt_vec = TV()\n",
    "txt_vec_fit = txt_vec.fit(dataset)\n",
    "txt_vec_fit_transform = txt_vec_fit.transform(dataset)"
   ]
  },
  {
   "cell_type": "code",
   "execution_count": 20,
   "metadata": {},
   "outputs": [
    {
     "output_type": "execute_result",
     "data": {
      "text/plain": "3090"
     },
     "metadata": {},
     "execution_count": 20
    }
   ],
   "source": [
    "len_word = len(txt_vec.get_feature_names())\n",
    "term_frequency = np.array(txt_vec_fit_transform.sum(axis=0))[0]\n",
    "len_word"
   ]
  },
  {
   "cell_type": "code",
   "execution_count": 21,
   "metadata": {},
   "outputs": [
    {
     "output_type": "stream",
     "name": "stdout",
     "text": "0.6453332298283039 \t メロス\n0.5783833370198198 \t まし\n0.37141075596813744 \t から\n0.3405695170027758 \t いる\n0.3331149247625165 \t よう\n0.32355665686777285 \t ジョバンニ\n0.316890398572601 \t その\n0.26441640595645666 \t ない\n0.2504817627099126 \t です\n0.190025338160438 \t でし\n0.18801969864981533 \t なっ\n0.17290593832616435 \t カムパネルラ\n0.1698245341653431 \t 無い\n0.167653723649051 \t もう\n0.15254981835296047 \t ある\n0.1417821607796336 \t ああ\n0.14158728377137583 \t なら\n0.13710480019607596 \t それ\n0.13700736169194708 \t ます\n0.1361303370584443 \t そう\n0.13359677975840772 \t ながら\n0.13181937872390748 \t 云い\n0.13106322245837115 \t たち\n0.12736840062400734 \t セリヌンティウス\n0.1257037923459114 \t おまえ\n0.1199545301205932 \t この\n0.11966221460820659 \t くれ\n0.1187851899747038 \t いま\n0.11025877418902685 \t まで\n0.10670203449929419 \t あの\n0.10271639900564218 \t たり\n0.10100445902221482 \t ぼく\n0.09939367811157111 \t もの\n0.09934495885950667 \t いい\n0.09340349379093871 \t 信じ\n0.09340349379093871 \t 出来\n0.09244475910507796 \t みんな\n0.09237763723623466 \t また\n0.08979536068413364 \t こと\n0.08477696533612494 \t ここ\n0.08477696533612494 \t でも\n0.08351018668610666 \t あっ\n0.08131766415052115 \t という\n0.0811227871422634 \t られ\n0.079953446996374 \t なかっ\n0.0789302646066779 \t けれども\n0.07756604745253073 \t すぐ\n0.07756604745253073 \t たら\n0.07703729925423164 \t ほんとう\n0.07625054955044801 \t 走っ\n0.0736134192873769 \t どこ\n0.07279124836484421 \t だろ\n0.07018953932052216 \t そして\n0.06894219316272493 \t たい\n0.06676565935366742 \t 汽車\n0.06674967062713942 \t する\n0.06533673422092783 \t 帰っ\n0.06505371937024006 \t 小さな\n0.0644109903353606 \t ませ\n0.06411867482297398\t それから\n0.0628518961729557 \t 走る\n0.061926152287388465 \t 行く\n0.06182871378325959 \t なく\n0.06162983940338531 \t ねえ\n0.06162983940338531 \t まるで\n0.06065937363737018 \t 少し\n0.05943858695787009 \t 殺さ\n0.05943858695787009 \t 群衆\n0.058077097085269175 \t 下さい\n0.05720007245176639 \t 立っ\n0.056907756939379765 \t どう\n0.05593329380174811 \t 行っ\n0.0557871360455548 \t ばかり\n0.055592259037297045 \t れる\n0.0547639536558587 \t 見え\n0.054715234403794256 \t とき\n0.05461779589966538 \t 行き\n0.05344845575377597 \t なり\n0.05307013948624846 \t そら\n0.05106105620993272 \t 大きな\n0.050947360249602926 \t 結婚式\n0.050947360249602926 \t そうして\n0.050947360249602926 \t 暴君\n0.050947360249602926 \t 濁流\n0.050947360249602926 \t 身代り\n0.05091489845373941 \t 流れ\n0.04964811980372112 \t 答え\n0.04955068129959224 \t わし\n0.04955068129959224 \t 殺し\n0.04793431953596636 \t ぼんやり\n0.04793431953596636 \t 青年\n0.0473094395119423 \t 来る\n0.04622237955253898 \t そこ\n0.04622237955253898 \t 白い\n0.04622237955253898 \t あり\n0.04622237955253898 \t こっち\n0.04622237955253898 \t さっき\n0.04604266086192402 \t まだ\n0.045993941609859576 \t 待っ\n"
    }
   ],
   "source": [
    "for count in term_frequency.argsort()[:-100:-1]:\n",
    "    print(term_frequency[count], \"\\t\", txt_vec.get_feature_names()[count])"
   ]
  },
  {
   "cell_type": "code",
   "execution_count": 22,
   "metadata": {},
   "outputs": [],
   "source": [
    "lda = LDA(n_components=3,learning_method='online', max_iter=20)\n",
    "\n",
    "lda_fit = lda.fit(txt_vec_fit_transform)"
   ]
  },
  {
   "cell_type": "code",
   "execution_count": 23,
   "metadata": {},
   "outputs": [
    {
     "output_type": "stream",
     "name": "stdout",
     "text": "topic 0\nまし,ジョバンニ,よう,から,でし,です,その,カムパネルラ,ない,云い,いる,もう,ぼく,たり,なっ,みんな,そう,汽車,それ,ほんとう,ながら,どこ,そして,また,まるで,小さな,ああ,たち,そら,ねえ,あの,こと,ぼんやり,いま,行っ,ます,行く,そこ,立っ,この,青年,女の子,けれども,見え,こっち,もの,いっぱい,あり,白い \n\ntopic 1\nメロス,いる,無い,から,ない,その,セリヌンティウス,ある,なら,おまえ,くれ,出来,信じ,ああ,この,ます,よう,いい,あの,なっ,まで,それから,いま,でも,殺さ,です,あっ,ここ,帰っ,れる,王城,たち,もの,たい,暴君,それ,群衆,なかっ,濁流,結婚式,られ,走る,すぐ,たら,どう,つもり,そうして,ながら,やる \n\ntopic 2\nいう,あからめ,殴り,肉体,子供,うごい,ども,乗ら,ちか,ますます,哀願,倒し,お話,やっと,激怒,誇っ,泳ぎ,駅長,永久,つら,疲労,咲き,尽き,やれ,お早う,機嫌,疑わ,かたち,あわて,ぱみじんに,会い,おして,集り,ゆらぎ,一事,竹馬,守り,間近,列車,なんにも,どれ,国王,浮彫,細工,かくれ,意外,精神,いな,おじぎ \n\n"
    }
   ],
   "source": [
    "features = txt_vec.get_feature_names()\n",
    "\n",
    "\n",
    "for topic in range(3):\n",
    "    print(\"topic\", topic)\n",
    "    number_of_topic = lda.components_[topic] \n",
    "    word = ','.join(features[i] for i in number_of_topic.argsort()[:-50:-1])\n",
    "    print(word, \"\\n\")"
   ]
  },
  {
   "cell_type": "code",
   "execution_count": null,
   "metadata": {},
   "outputs": [],
   "source": []
  }
 ]
}